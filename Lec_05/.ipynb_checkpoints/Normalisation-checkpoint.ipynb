{
 "cells": [
  {
   "cell_type": "code",
   "execution_count": 34,
   "metadata": {},
   "outputs": [],
   "source": [
    "from sklearn.datasets.samples_generator import make_blobs as m\n",
    "import numpy as np\n",
    "import matplotlib.pyplot as plt"
   ]
  },
  {
   "cell_type": "code",
   "execution_count": 77,
   "metadata": {},
   "outputs": [],
   "source": [
    "u=250\n",
    "sigma=50"
   ]
  },
  {
   "cell_type": "code",
   "execution_count": null,
   "metadata": {
    "collapsed": true
   },
   "outputs": [],
   "source": []
  },
  {
   "cell_type": "code",
   "execution_count": 76,
   "metadata": {},
   "outputs": [],
   "source": [
    "def getDatabase(shape):\n",
    "    X=np.random.randn(shape[0])*sigma+u\n",
    "    e=np.random.randn(shape[0])\n",
    "    Y=2*X+5+e\n",
    "    ones=np.ones?\n",
    "    return X,Y\n",
    "    "
   ]
  },
  {
   "cell_type": "code",
   "execution_count": 37,
   "metadata": {},
   "outputs": [],
   "source": [
    "X,Y= getDatabase((100,))\n"
   ]
  },
  {
   "cell_type": "code",
   "execution_count": 43,
   "metadata": {},
   "outputs": [
    {
     "data": {
      "image/png": "[encoded data removed]",
      "text/plain": [
       "<matplotlib.figure.Figure at 0x7f044f635a58>"
      ]
     },
     "metadata": {},
     "output_type": "display_data"
    }
   ],
   "source": [
    "plt.scatter(X,Y,label='Noramlized Form')\n",
    "plt.scatter(X_new,Y,label=\"Standard Normalized form\")\n",
    "plt.legend()\n",
    "plt.show()\n"
   ]
  },
  {
   "cell_type": "code",
   "execution_count": 39,
   "metadata": {},
   "outputs": [],
   "source": [
    "X_new=(X-u)//sigma"
   ]
  },
  {
   "cell_type": "code",
   "execution_count": 40,
   "metadata": {},
   "outputs": [
    {
     "data": {
      "text/plain": [
       "<matplotlib.collections.PathCollection at 0x7f044f5681d0>"
      ]
     },
     "execution_count": 40,
     "metadata": {},
     "output_type": "execute_result"
    },
    {
     "data": {
      "image/png": "[encoded data removed]",
      "text/plain": [
       "<matplotlib.figure.Figure at 0x7f044f6c6b00>"
      ]
     },
     "metadata": {},
     "output_type": "display_data"
    }
   ],
   "source": [
    "plt.scatter(X_new,Y)"
   ]
  },
  {
   "cell_type": "code",
   "execution_count": 62,
   "metadata": {},
   "outputs": [],
   "source": [
    "#Numpy Matrix\n",
    "m=np.random.randn(5,3)"
   ]
  },
  {
   "cell_type": "code",
   "execution_count": 61,
   "metadata": {},
   "outputs": [
    {
     "data": {
      "text/plain": [
       "array([[ 0.84347733, -0.47645486,  2.061698  ],\n",
       "       [ 0.407472  ,  0.81279543,  1.1214564 ],\n",
       "       [ 0.22661154,  1.1228117 ,  0.36152653],\n",
       "       [ 0.05727467, -0.1257146 ,  0.22218656],\n",
       "       [ 0.00592188, -0.44259821,  0.74951207]])"
      ]
     },
     "execution_count": 61,
     "metadata": {},
     "output_type": "execute_result"
    }
   ],
   "source": [
    "m"
   ]
  },
  {
   "cell_type": "code",
   "execution_count": 63,
   "metadata": {},
   "outputs": [
    {
     "data": {
      "text/plain": [
       "(3, 5)"
      ]
     },
     "execution_count": 63,
     "metadata": {},
     "output_type": "execute_result"
    }
   ],
   "source": [
    "m=np.linalg.pinv(m)\n",
    "m.shape"
   ]
  },
  {
   "cell_type": "code",
   "execution_count": 59,
   "metadata": {},
   "outputs": [
    {
     "data": {
      "text/plain": [
       "array([[-0.98675169, -0.6167635 , -1.45588695],\n",
       "       [ 0.52383514,  0.71584387, -0.35135303],\n",
       "       [ 0.06327488,  1.01850507, -1.38063568],\n",
       "       [ 1.14033516,  0.38648636, -1.14581335],\n",
       "       [ 0.66956034,  0.32652359, -0.8278635 ]])"
      ]
     },
     "execution_count": 59,
     "metadata": {},
     "output_type": "execute_result"
    }
   ],
   "source": [
    "m"
   ]
  },
  {
   "cell_type": "code",
   "execution_count": 52,
   "metadata": {},
   "outputs": [
    {
     "data": {
      "text/plain": [
       "array([579.53930741, 469.91740112, 295.20335824, 585.97559371,\n",
       "       592.71809338, 488.87920133, 350.22612578, 495.61740926,\n",
       "       593.08770264, 535.31748028, 675.26523852, 379.04644031,\n",
       "       636.10307242, 519.731861  , 426.20245528, 505.87384271,\n",
       "       588.21463452, 436.78986091, 587.32404917, 670.18554599,\n",
       "       743.28755377, 509.23911355, 484.43224106, 604.42797646,\n",
       "       431.98868717, 711.37098947, 648.82465511, 394.30299363,\n",
       "       579.51739774, 551.78989364, 500.95945052, 503.94420887,\n",
       "       428.15910104, 472.11060611, 461.6941443 , 444.57184805,\n",
       "       291.92658503, 636.3122828 , 564.07702502, 273.87964961,\n",
       "       550.23166487, 688.76728385, 483.66872766, 509.26753991,\n",
       "       417.0803935 , 557.46003672, 531.10429063, 392.37203504,\n",
       "       552.47770419, 555.03276126, 547.64659459, 346.87065549,\n",
       "       529.98664292, 432.26250221, 566.31961203, 434.76649757,\n",
       "       307.99837694, 529.39658614, 504.45609986, 377.58532276,\n",
       "       257.12422764, 484.68318694, 499.62878068, 529.61399533,\n",
       "       546.56290357, 549.55939883, 610.37105662, 616.23365604,\n",
       "       665.01654741, 555.00398153, 556.27140557, 629.50005532,\n",
       "       524.79729952, 443.17095081, 661.41560489, 556.27589886,\n",
       "       520.65864032, 277.71376618, 471.29132942, 558.81886395,\n",
       "       513.45290843, 428.23213482, 708.44778848, 424.28579252,\n",
       "       528.3303592 , 459.0707904 , 443.01423158, 564.36973253,\n",
       "       464.80009018, 570.20647438, 403.23594786, 423.9039796 ,\n",
       "       512.64816848, 501.79200646, 540.12994895, 502.28845765,\n",
       "       420.79121027, 501.80158296, 538.82547798, 373.64729126])"
      ]
     },
     "execution_count": 52,
     "metadata": {},
     "output_type": "execute_result"
    }
   ],
   "source": [
    "Y"
   ]
  },
  {
   "cell_type": "code",
   "execution_count": 53,
   "metadata": {},
   "outputs": [
    {
     "data": {
      "text/plain": [
       "<matplotlib.collections.PathCollection at 0x7f044f48acc0>"
      ]
     },
     "execution_count": 53,
     "metadata": {},
     "output_type": "execute_result"
    },
    {
     "data": {
      "image/png": "[encoded data removed]",
      "text/plain": [
       "<matplotlib.figure.Figure at 0x7f044f1f04e0>"
      ]
     },
     "metadata": {},
     "output_type": "display_data"
    }
   ],
   "source": [
    "plt.scatter(X,Y)"
   ]
  },
  {
   "cell_type": "code",
   "execution_count": 55,
   "metadata": {},
   "outputs": [],
   "source": [
    "A=X.T\n",
    "A=np.dot(A,X)"
   ]
  },
  {
   "cell_type": "code",
   "execution_count": 65,
   "metadata": {},
   "outputs": [],
   "source": [
    "B=X.T"
   ]
  },
  {
   "cell_type": "code",
   "execution_count": 72,
   "metadata": {},
   "outputs": [
    {
     "data": {
      "text/plain": [
       "13277197.993786203"
      ]
     },
     "execution_count": 72,
     "metadata": {},
     "output_type": "execute_result"
    }
   ],
   "source": [
    "C=np.dot(B,Y)\n"
   ]
  },
  {
   "cell_type": "code",
   "execution_count": 71,
   "metadata": {},
   "outputs": [],
   "source": [
    "C=C//A"
   ]
  },
  {
   "cell_type": "code",
   "execution_count": 68,
   "metadata": {},
   "outputs": [
    {
     "data": {
      "text/plain": [
       "2.0"
      ]
     },
     "execution_count": 68,
     "metadata": {},
     "output_type": "execute_result"
    }
   ],
   "source": [
    "C\n"
   ]
  },
  {
   "cell_type": "code",
   "execution_count": 73,
   "metadata": {},
   "outputs": [],
   "source": [
    "Y=np.dot(C.T,X)"
   ]
  },
  {
   "cell_type": "code",
   "execution_count": 75,
   "metadata": {},
   "outputs": [
    {
     "data": {
      "text/plain": [
       "<matplotlib.collections.PathCollection at 0x7f044edd24a8>"
      ]
     },
     "execution_count": 75,
     "metadata": {},
     "output_type": "execute_result"
    },
    {
     "data": {
      "image/png": "[encoded data removed]",
      "text/plain": [
       "<matplotlib.figure.Figure at 0x7f044edd2518>"
      ]
     },
     "metadata": {},
     "output_type": "display_data"
    }
   ],
   "source": [
    "plt.plot(Y,X)\n",
    "plt.scatter(Y,X)"
   ]
  },
  {
   "cell_type": "code",
   "execution_count": null,
   "metadata": {},
   "outputs": [],
   "source": []
  }
 ],
 "metadata": {
  "kernelspec": {
   "display_name": "Python 3",
   "language": "python",
   "name": "python3"
  },
  "language_info": {
   "codemirror_mode": {
    "name": "ipython",
    "version": 3
   },
   "file_extension": ".py",
   "mimetype": "text/x-python",
   "name": "python",
   "nbconvert_exporter": "python",
   "pygments_lexer": "ipython3",
   "version": "3.6.4"
  }
 },
 "nbformat": 4,
 "nbformat_minor": 2
}
