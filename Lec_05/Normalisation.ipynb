{
 "cells": [
  {
   "cell_type": "code",
   "execution_count": 113,
   "metadata": {},
   "outputs": [],
   "source": [
    "from sklearn.datasets.samples_generator import make_blobs as m\n",
    "import numpy as np\n",
    "import matplotlib.pyplot as plt"
   ]
  },
  {
   "cell_type": "code",
   "execution_count": 114,
   "metadata": {},
   "outputs": [],
   "source": [
    "u=250\n",
    "sigma=50"
   ]
  },
  {
   "cell_type": "code",
   "execution_count": 151,
   "metadata": {},
   "outputs": [
    {
     "ename": "ValueError",
     "evalue": "operands could not be broadcast together with shapes (100,2) (100,) ",
     "output_type": "error",
     "traceback": [
      "\u001b[0;31m---------------------------------------------------------------------------\u001b[0m",
      "\u001b[0;31mValueError\u001b[0m                                Traceback (most recent call last)",
      "\u001b[0;32m<ipython-input-151-c45f678e9362>\u001b[0m in \u001b[0;36m<module>\u001b[0;34m()\u001b[0m\n\u001b[1;32m      6\u001b[0m \u001b[0;34m\u001b[0m\u001b[0m\n\u001b[1;32m      7\u001b[0m \u001b[0mX\u001b[0m\u001b[0;34m=\u001b[0m\u001b[0mnp\u001b[0m\u001b[0;34m.\u001b[0m\u001b[0mhstack\u001b[0m\u001b[0;34m(\u001b[0m\u001b[0;34m(\u001b[0m\u001b[0mones\u001b[0m\u001b[0;34m,\u001b[0m\u001b[0mX\u001b[0m\u001b[0;34m)\u001b[0m\u001b[0;34m)\u001b[0m\u001b[0;34m\u001b[0m\u001b[0m\n\u001b[0;32m----> 8\u001b[0;31m \u001b[0mY\u001b[0m\u001b[0;34m=\u001b[0m\u001b[0;36m2\u001b[0m\u001b[0;34m*\u001b[0m\u001b[0mX\u001b[0m\u001b[0;34m+\u001b[0m\u001b[0;36m5\u001b[0m\u001b[0;34m+\u001b[0m\u001b[0me\u001b[0m\u001b[0;34m\u001b[0m\u001b[0m\n\u001b[0m\u001b[1;32m      9\u001b[0m \u001b[0;34m\u001b[0m\u001b[0m\n\u001b[1;32m     10\u001b[0m \u001b[0;34m\u001b[0m\u001b[0m\n",
      "\u001b[0;31mValueError\u001b[0m: operands could not be broadcast together with shapes (100,2) (100,) "
     ]
    }
   ],
   "source": [
    "\n",
    "X=np.random.randn(100,1)*sigma+u\n",
    "e=np.random.randn(100)\n",
    "ones=np.ones((100,1))\n",
    "\n",
    "\n",
    "X=np.hstack((ones,X))\n",
    "#Y=2*X+5+e\n",
    "    \n",
    "    \n"
   ]
  },
  {
   "cell_type": "code",
   "execution_count": 153,
   "metadata": {},
   "outputs": [
    {
     "data": {
      "text/plain": [
       "array([[  1.        , 311.95853504],\n",
       "       [  1.        , 241.17907876],\n",
       "       [  1.        , 209.09081533],\n",
       "       [  1.        , 218.74007927],\n",
       "       [  1.        , 247.58991195],\n",
       "       [  1.        , 228.38707066],\n",
       "       [  1.        , 243.65184028],\n",
       "       [  1.        , 176.09394213],\n",
       "       [  1.        , 383.07049303],\n",
       "       [  1.        , 196.7407039 ],\n",
       "       [  1.        , 302.15641479],\n",
       "       [  1.        , 258.49996147],\n",
       "       [  1.        , 216.74433373],\n",
       "       [  1.        , 269.6499618 ],\n",
       "       [  1.        , 316.21712073],\n",
       "       [  1.        , 169.8277201 ],\n",
       "       [  1.        , 287.75044264],\n",
       "       [  1.        , 197.92390485],\n",
       "       [  1.        , 246.01002357],\n",
       "       [  1.        , 256.50042118],\n",
       "       [  1.        , 208.25098719],\n",
       "       [  1.        , 322.57856134],\n",
       "       [  1.        , 245.16538174],\n",
       "       [  1.        , 281.68244531],\n",
       "       [  1.        , 254.44529963],\n",
       "       [  1.        , 218.52937324],\n",
       "       [  1.        , 278.07470024],\n",
       "       [  1.        , 273.90926621],\n",
       "       [  1.        , 184.82876905],\n",
       "       [  1.        , 160.51590582],\n",
       "       [  1.        , 286.26212278],\n",
       "       [  1.        , 219.94587509],\n",
       "       [  1.        , 269.23558783],\n",
       "       [  1.        , 212.88172217],\n",
       "       [  1.        , 189.3324712 ],\n",
       "       [  1.        , 363.65788957],\n",
       "       [  1.        , 218.94101288],\n",
       "       [  1.        ,  79.5971531 ],\n",
       "       [  1.        , 262.55888868],\n",
       "       [  1.        , 204.16094764],\n",
       "       [  1.        , 202.06805219],\n",
       "       [  1.        , 269.24047975],\n",
       "       [  1.        , 277.46808074],\n",
       "       [  1.        , 254.32415151],\n",
       "       [  1.        , 360.22343224],\n",
       "       [  1.        , 286.31278315],\n",
       "       [  1.        , 245.01670052],\n",
       "       [  1.        , 239.17590014],\n",
       "       [  1.        , 147.86849568],\n",
       "       [  1.        , 253.09829037],\n",
       "       [  1.        , 274.75315723],\n",
       "       [  1.        , 263.78431291],\n",
       "       [  1.        , 146.2119868 ],\n",
       "       [  1.        , 265.24624142],\n",
       "       [  1.        , 230.001941  ],\n",
       "       [  1.        , 304.41815726],\n",
       "       [  1.        , 216.96834834],\n",
       "       [  1.        , 177.17345893],\n",
       "       [  1.        , 265.19603802],\n",
       "       [  1.        , 258.61909171],\n",
       "       [  1.        , 233.23873746],\n",
       "       [  1.        , 240.36121141],\n",
       "       [  1.        , 254.65151638],\n",
       "       [  1.        , 284.11524533],\n",
       "       [  1.        , 210.5248913 ],\n",
       "       [  1.        , 220.0385155 ],\n",
       "       [  1.        , 229.38274503],\n",
       "       [  1.        , 184.62976979],\n",
       "       [  1.        , 165.84904762],\n",
       "       [  1.        , 194.05777695],\n",
       "       [  1.        , 252.65413062],\n",
       "       [  1.        , 268.63500264],\n",
       "       [  1.        , 362.21163091],\n",
       "       [  1.        , 199.94493773],\n",
       "       [  1.        , 208.0790695 ],\n",
       "       [  1.        , 300.74257481],\n",
       "       [  1.        , 244.79969647],\n",
       "       [  1.        , 320.62233118],\n",
       "       [  1.        , 275.44178911],\n",
       "       [  1.        , 203.91990677],\n",
       "       [  1.        , 358.0284293 ],\n",
       "       [  1.        , 227.25571878],\n",
       "       [  1.        , 201.09827538],\n",
       "       [  1.        , 270.33742762],\n",
       "       [  1.        , 289.74720617],\n",
       "       [  1.        , 181.27677185],\n",
       "       [  1.        , 213.10227612],\n",
       "       [  1.        , 195.83874907],\n",
       "       [  1.        , 259.97168054],\n",
       "       [  1.        , 292.94064614],\n",
       "       [  1.        , 254.1679327 ],\n",
       "       [  1.        , 277.08648036],\n",
       "       [  1.        , 261.84508548],\n",
       "       [  1.        , 267.49676714],\n",
       "       [  1.        , 302.43741014],\n",
       "       [  1.        , 234.44399212],\n",
       "       [  1.        , 217.95405013],\n",
       "       [  1.        , 235.29497804],\n",
       "       [  1.        , 251.44578698],\n",
       "       [  1.        , 239.27038988]])"
      ]
     },
     "execution_count": 153,
     "metadata": {},
     "output_type": "execute_result"
    }
   ],
   "source": [
    "X"
   ]
  },
  {
   "cell_type": "code",
   "execution_count": 130,
   "metadata": {},
   "outputs": [
    {
     "data": {
      "text/plain": [
       "(1, 100)"
      ]
     },
     "execution_count": 130,
     "metadata": {},
     "output_type": "execute_result"
    }
   ],
   "source": [
    "Y.shape\n",
    "X.shape"
   ]
  },
  {
   "cell_type": "code",
   "execution_count": null,
   "metadata": {},
   "outputs": [],
   "source": []
  },
  {
   "cell_type": "code",
   "execution_count": 131,
   "metadata": {},
   "outputs": [
    {
     "ename": "ValueError",
     "evalue": "x and y must be the same size",
     "output_type": "error",
     "traceback": [
      "\u001b[0;31m---------------------------------------------------------------------------\u001b[0m",
      "\u001b[0;31mValueError\u001b[0m                                Traceback (most recent call last)",
      "\u001b[0;32m<ipython-input-131-ba9ad981586e>\u001b[0m in \u001b[0;36m<module>\u001b[0;34m()\u001b[0m\n\u001b[1;32m      1\u001b[0m \u001b[0mplt\u001b[0m\u001b[0;34m.\u001b[0m\u001b[0mscatter\u001b[0m\u001b[0;34m(\u001b[0m\u001b[0mX\u001b[0m\u001b[0;34m,\u001b[0m\u001b[0mY\u001b[0m\u001b[0;34m,\u001b[0m\u001b[0mlabel\u001b[0m\u001b[0;34m=\u001b[0m\u001b[0;34m'Noramlized Form'\u001b[0m\u001b[0;34m)\u001b[0m\u001b[0;34m\u001b[0m\u001b[0m\n\u001b[0;32m----> 2\u001b[0;31m \u001b[0mplt\u001b[0m\u001b[0;34m.\u001b[0m\u001b[0mscatter\u001b[0m\u001b[0;34m(\u001b[0m\u001b[0mX_new\u001b[0m\u001b[0;34m,\u001b[0m\u001b[0mY\u001b[0m\u001b[0;34m,\u001b[0m\u001b[0mlabel\u001b[0m\u001b[0;34m=\u001b[0m\u001b[0;34m\"Standard Normalized form\"\u001b[0m\u001b[0;34m)\u001b[0m\u001b[0;34m\u001b[0m\u001b[0m\n\u001b[0m\u001b[1;32m      3\u001b[0m \u001b[0mplt\u001b[0m\u001b[0;34m.\u001b[0m\u001b[0mlegend\u001b[0m\u001b[0;34m(\u001b[0m\u001b[0;34m)\u001b[0m\u001b[0;34m\u001b[0m\u001b[0m\n\u001b[1;32m      4\u001b[0m \u001b[0mplt\u001b[0m\u001b[0;34m.\u001b[0m\u001b[0mshow\u001b[0m\u001b[0;34m(\u001b[0m\u001b[0;34m)\u001b[0m\u001b[0;34m\u001b[0m\u001b[0m\n",
      "\u001b[0;32m~/anaconda3/lib/python3.6/site-packages/matplotlib/pyplot.py\u001b[0m in \u001b[0;36mscatter\u001b[0;34m(x, y, s, c, marker, cmap, norm, vmin, vmax, alpha, linewidths, verts, edgecolors, hold, data, **kwargs)\u001b[0m\n\u001b[1;32m   3376\u001b[0m                          \u001b[0mvmin\u001b[0m\u001b[0;34m=\u001b[0m\u001b[0mvmin\u001b[0m\u001b[0;34m,\u001b[0m \u001b[0mvmax\u001b[0m\u001b[0;34m=\u001b[0m\u001b[0mvmax\u001b[0m\u001b[0;34m,\u001b[0m \u001b[0malpha\u001b[0m\u001b[0;34m=\u001b[0m\u001b[0malpha\u001b[0m\u001b[0;34m,\u001b[0m\u001b[0;34m\u001b[0m\u001b[0m\n\u001b[1;32m   3377\u001b[0m                          \u001b[0mlinewidths\u001b[0m\u001b[0;34m=\u001b[0m\u001b[0mlinewidths\u001b[0m\u001b[0;34m,\u001b[0m \u001b[0mverts\u001b[0m\u001b[0;34m=\u001b[0m\u001b[0mverts\u001b[0m\u001b[0;34m,\u001b[0m\u001b[0;34m\u001b[0m\u001b[0m\n\u001b[0;32m-> 3378\u001b[0;31m                          edgecolors=edgecolors, data=data, **kwargs)\n\u001b[0m\u001b[1;32m   3379\u001b[0m     \u001b[0;32mfinally\u001b[0m\u001b[0;34m:\u001b[0m\u001b[0;34m\u001b[0m\u001b[0m\n\u001b[1;32m   3380\u001b[0m         \u001b[0max\u001b[0m\u001b[0;34m.\u001b[0m\u001b[0m_hold\u001b[0m \u001b[0;34m=\u001b[0m \u001b[0mwashold\u001b[0m\u001b[0;34m\u001b[0m\u001b[0m\n",
      "\u001b[0;32m~/anaconda3/lib/python3.6/site-packages/matplotlib/__init__.py\u001b[0m in \u001b[0;36minner\u001b[0;34m(ax, *args, **kwargs)\u001b[0m\n\u001b[1;32m   1715\u001b[0m                     warnings.warn(msg % (label_namer, func.__name__),\n\u001b[1;32m   1716\u001b[0m                                   RuntimeWarning, stacklevel=2)\n\u001b[0;32m-> 1717\u001b[0;31m             \u001b[0;32mreturn\u001b[0m \u001b[0mfunc\u001b[0m\u001b[0;34m(\u001b[0m\u001b[0max\u001b[0m\u001b[0;34m,\u001b[0m \u001b[0;34m*\u001b[0m\u001b[0margs\u001b[0m\u001b[0;34m,\u001b[0m \u001b[0;34m**\u001b[0m\u001b[0mkwargs\u001b[0m\u001b[0;34m)\u001b[0m\u001b[0;34m\u001b[0m\u001b[0m\n\u001b[0m\u001b[1;32m   1718\u001b[0m         \u001b[0mpre_doc\u001b[0m \u001b[0;34m=\u001b[0m \u001b[0minner\u001b[0m\u001b[0;34m.\u001b[0m\u001b[0m__doc__\u001b[0m\u001b[0;34m\u001b[0m\u001b[0m\n\u001b[1;32m   1719\u001b[0m         \u001b[0;32mif\u001b[0m \u001b[0mpre_doc\u001b[0m \u001b[0;32mis\u001b[0m \u001b[0;32mNone\u001b[0m\u001b[0;34m:\u001b[0m\u001b[0;34m\u001b[0m\u001b[0m\n",
      "\u001b[0;32m~/anaconda3/lib/python3.6/site-packages/matplotlib/axes/_axes.py\u001b[0m in \u001b[0;36mscatter\u001b[0;34m(self, x, y, s, c, marker, cmap, norm, vmin, vmax, alpha, linewidths, verts, edgecolors, **kwargs)\u001b[0m\n\u001b[1;32m   3953\u001b[0m         \u001b[0my\u001b[0m \u001b[0;34m=\u001b[0m \u001b[0mnp\u001b[0m\u001b[0;34m.\u001b[0m\u001b[0mma\u001b[0m\u001b[0;34m.\u001b[0m\u001b[0mravel\u001b[0m\u001b[0;34m(\u001b[0m\u001b[0my\u001b[0m\u001b[0;34m)\u001b[0m\u001b[0;34m\u001b[0m\u001b[0m\n\u001b[1;32m   3954\u001b[0m         \u001b[0;32mif\u001b[0m \u001b[0mx\u001b[0m\u001b[0;34m.\u001b[0m\u001b[0msize\u001b[0m \u001b[0;34m!=\u001b[0m \u001b[0my\u001b[0m\u001b[0;34m.\u001b[0m\u001b[0msize\u001b[0m\u001b[0;34m:\u001b[0m\u001b[0;34m\u001b[0m\u001b[0m\n\u001b[0;32m-> 3955\u001b[0;31m             \u001b[0;32mraise\u001b[0m \u001b[0mValueError\u001b[0m\u001b[0;34m(\u001b[0m\u001b[0;34m\"x and y must be the same size\"\u001b[0m\u001b[0;34m)\u001b[0m\u001b[0;34m\u001b[0m\u001b[0m\n\u001b[0m\u001b[1;32m   3956\u001b[0m \u001b[0;34m\u001b[0m\u001b[0m\n\u001b[1;32m   3957\u001b[0m         \u001b[0;32mif\u001b[0m \u001b[0ms\u001b[0m \u001b[0;32mis\u001b[0m \u001b[0;32mNone\u001b[0m\u001b[0;34m:\u001b[0m\u001b[0;34m\u001b[0m\u001b[0m\n",
      "\u001b[0;31mValueError\u001b[0m: x and y must be the same size"
     ]
    },
    {
     "data": {
      "image/png": "[encoded data removed]",
      "text/plain": [
       "<matplotlib.figure.Figure at 0x7f044ebc03c8>"
      ]
     },
     "metadata": {},
     "output_type": "display_data"
    }
   ],
   "source": [
    "plt.scatter(X,Y,label='Noramlized Form')\n",
    "plt.scatter(X_new,Y,label=\"Standard Normalized form\")\n",
    "plt.legend()\n",
    "plt.show()\n"
   ]
  },
  {
   "cell_type": "code",
   "execution_count": 134,
   "metadata": {},
   "outputs": [],
   "source": [
    "X_new=(X-u)//sigma"
   ]
  },
  {
   "cell_type": "code",
   "execution_count": 133,
   "metadata": {},
   "outputs": [
    {
     "data": {
      "text/plain": [
       "<matplotlib.collections.PathCollection at 0x7f044ef6c4e0>"
      ]
     },
     "execution_count": 133,
     "metadata": {},
     "output_type": "execute_result"
    },
    {
     "data": {
      "image/png": "[encoded data removed]",
      "text/plain": [
       "<matplotlib.figure.Figure at 0x7f044ebcd780>"
      ]
     },
     "metadata": {},
     "output_type": "display_data"
    }
   ],
   "source": [
    "plt.scatter(X_new,Y)"
   ]
  },
  {
   "cell_type": "code",
   "execution_count": 135,
   "metadata": {},
   "outputs": [],
   "source": [
    "#Numpy Matrix\n",
    "m=np.random.randn(5,3)"
   ]
  },
  {
   "cell_type": "code",
   "execution_count": 136,
   "metadata": {},
   "outputs": [
    {
     "data": {
      "text/plain": [
       "array([[ 0.28852959,  0.27028287, -1.92662988],\n",
       "       [-1.38743283, -2.76020729, -0.21121424],\n",
       "       [-0.46533492, -0.99564914, -1.08042389],\n",
       "       [-0.4603237 ,  0.39643128, -0.63362355],\n",
       "       [-1.42959754, -0.4458172 , -1.07101074]])"
      ]
     },
     "execution_count": 136,
     "metadata": {},
     "output_type": "execute_result"
    }
   ],
   "source": [
    "m"
   ]
  },
  {
   "cell_type": "code",
   "execution_count": 137,
   "metadata": {},
   "outputs": [
    {
     "data": {
      "text/plain": [
       "(3, 5)"
      ]
     },
     "execution_count": 137,
     "metadata": {},
     "output_type": "execute_result"
    }
   ],
   "source": [
    "m=np.linalg.pinv(m)\n",
    "m.shape"
   ]
  },
  {
   "cell_type": "code",
   "execution_count": 138,
   "metadata": {},
   "outputs": [
    {
     "data": {
      "text/plain": [
       "array([[ 0.34765183,  0.02620592,  0.16314679, -0.32366642, -0.6036508 ],\n",
       "       [-0.09714295, -0.32346104, -0.16960434,  0.22295676,  0.27773019],\n",
       "       [-0.38798793,  0.02719543, -0.18317252, -0.04174199, -0.03163578]])"
      ]
     },
     "execution_count": 138,
     "metadata": {},
     "output_type": "execute_result"
    }
   ],
   "source": [
    "m"
   ]
  },
  {
   "cell_type": "code",
   "execution_count": 139,
   "metadata": {},
   "outputs": [
    {
     "data": {
      "text/plain": [
       "array([[680.54954151, 476.06637093, 440.22487382, 507.22250718,\n",
       "        573.96635742, 546.65727654, 502.71425031, 476.84044179,\n",
       "        523.91122364, 593.57515861, 573.94555114, 742.91020054,\n",
       "        306.34961925, 502.19440935, 532.88950997, 449.36889265,\n",
       "        625.54076405, 506.98178469, 345.22640556, 507.11043876,\n",
       "        572.13623921, 497.85012327, 496.13950929, 556.15867494,\n",
       "        532.30404232, 552.43585472, 479.54747987, 514.44450924,\n",
       "        532.1600619 , 396.82336328, 575.04133107, 533.61842502,\n",
       "        428.84291948, 423.24849179, 610.8501264 , 589.39545803,\n",
       "        589.82677191, 451.75409893, 494.53653044, 540.95491979,\n",
       "        432.8740492 , 512.50196877, 387.8840804 , 515.4926535 ,\n",
       "        539.90866517, 275.75783702, 586.64868446, 491.56437758,\n",
       "        493.17056152, 472.14017741, 377.84040447, 496.49366036,\n",
       "        589.84487474, 616.89577877, 527.08434407, 497.05845172,\n",
       "        384.99526356, 481.14992022, 430.76472517, 550.83553509,\n",
       "        537.60980969, 491.35445447, 394.97250181, 557.62095981,\n",
       "        443.12572472, 556.93661517, 507.60943824, 450.2152867 ,\n",
       "        269.44332511, 526.62160673, 469.95692505, 608.89149239,\n",
       "        536.13333427, 501.09385515, 470.8304035 , 493.3831628 ,\n",
       "        484.4892195 , 621.50893836, 443.05293311, 600.2036863 ,\n",
       "        475.91347012, 836.16748192, 629.63581829, 539.51001468,\n",
       "        432.22034779, 511.82872457, 431.94010691, 456.38211472,\n",
       "        458.3258601 , 323.97314444, 413.97852289, 495.75313181,\n",
       "        321.36632026, 577.15813712, 423.91768972, 625.00560992,\n",
       "        594.11730353, 464.55268094, 586.43968374, 422.67194551]])"
      ]
     },
     "execution_count": 139,
     "metadata": {},
     "output_type": "execute_result"
    }
   ],
   "source": [
    "Y"
   ]
  },
  {
   "cell_type": "code",
   "execution_count": 140,
   "metadata": {},
   "outputs": [
    {
     "data": {
      "text/plain": [
       "<matplotlib.collections.PathCollection at 0x7f044f4944a8>"
      ]
     },
     "execution_count": 140,
     "metadata": {},
     "output_type": "execute_result"
    },
    {
     "data": {
      "image/png": "[encoded data removed]",
      "text/plain": [
       "<matplotlib.figure.Figure at 0x7f044f2cd048>"
      ]
     },
     "metadata": {},
     "output_type": "display_data"
    }
   ],
   "source": [
    "plt.scatter(X,Y)"
   ]
  },
  {
   "cell_type": "code",
   "execution_count": 141,
   "metadata": {},
   "outputs": [],
   "source": [
    "A=X.T\n",
    "A=np.dot(A,X)"
   ]
  },
  {
   "cell_type": "code",
   "execution_count": 142,
   "metadata": {},
   "outputs": [],
   "source": [
    "B=X.T"
   ]
  },
  {
   "cell_type": "code",
   "execution_count": 143,
   "metadata": {},
   "outputs": [],
   "source": [
    "C=np.dot(B,Y)\n"
   ]
  },
  {
   "cell_type": "code",
   "execution_count": 144,
   "metadata": {},
   "outputs": [],
   "source": [
    "C=C//A"
   ]
  },
  {
   "cell_type": "code",
   "execution_count": 145,
   "metadata": {},
   "outputs": [
    {
     "data": {
      "text/plain": [
       "array([[2., 2., 2., ..., 2., 2., 2.],\n",
       "       [2., 2., 2., ..., 2., 2., 2.],\n",
       "       [2., 2., 2., ..., 2., 2., 2.],\n",
       "       ...,\n",
       "       [2., 2., 2., ..., 2., 2., 2.],\n",
       "       [2., 2., 2., ..., 2., 2., 2.],\n",
       "       [2., 2., 2., ..., 2., 2., 2.]])"
      ]
     },
     "execution_count": 145,
     "metadata": {},
     "output_type": "execute_result"
    }
   ],
   "source": [
    "C\n"
   ]
  },
  {
   "cell_type": "code",
   "execution_count": 146,
   "metadata": {},
   "outputs": [
    {
     "ename": "ValueError",
     "evalue": "shapes (100,100) and (1,100) not aligned: 100 (dim 1) != 1 (dim 0)",
     "output_type": "error",
     "traceback": [
      "\u001b[0;31m---------------------------------------------------------------------------\u001b[0m",
      "\u001b[0;31mValueError\u001b[0m                                Traceback (most recent call last)",
      "\u001b[0;32m<ipython-input-146-afb708a11175>\u001b[0m in \u001b[0;36m<module>\u001b[0;34m()\u001b[0m\n\u001b[0;32m----> 1\u001b[0;31m \u001b[0mY\u001b[0m\u001b[0;34m=\u001b[0m\u001b[0mnp\u001b[0m\u001b[0;34m.\u001b[0m\u001b[0mdot\u001b[0m\u001b[0;34m(\u001b[0m\u001b[0mC\u001b[0m\u001b[0;34m.\u001b[0m\u001b[0mT\u001b[0m\u001b[0;34m,\u001b[0m\u001b[0mX\u001b[0m\u001b[0;34m)\u001b[0m\u001b[0;34m\u001b[0m\u001b[0m\n\u001b[0m",
      "\u001b[0;31mValueError\u001b[0m: shapes (100,100) and (1,100) not aligned: 100 (dim 1) != 1 (dim 0)"
     ]
    }
   ],
   "source": [
    "Y=np.dot(C.T,X)"
   ]
  },
  {
   "cell_type": "code",
   "execution_count": 147,
   "metadata": {},
   "outputs": [
    {
     "data": {
      "text/plain": [
       "<matplotlib.collections.PathCollection at 0x7f044eaea4a8>"
      ]
     },
     "execution_count": 147,
     "metadata": {},
     "output_type": "execute_result"
    },
    {
     "data": {
      "image/png": "[encoded data removed]",
      "text/plain": [
       "<matplotlib.figure.Figure at 0x7f044ebbf588>"
      ]
     },
     "metadata": {},
     "output_type": "display_data"
    }
   ],
   "source": [
    "plt.plot(Y,X)\n",
    "plt.scatter(Y,X)"
   ]
  },
  {
   "cell_type": "code",
   "execution_count": null,
   "metadata": {},
   "outputs": [],
   "source": []
  },
  {
   "cell_type": "code",
   "execution_count": null,
   "metadata": {},
   "outputs": [],
   "source": []
  },
  {
   "cell_type": "code",
   "execution_count": null,
   "metadata": {},
   "outputs": [],
   "source": []
  }
 ],
 "metadata": {
  "kernelspec": {
   "display_name": "Python 3",
   "language": "python",
   "name": "python3"
  },
  "language_info": {
   "codemirror_mode": {
    "name": "ipython",
    "version": 3
   },
   "file_extension": ".py",
   "mimetype": "text/x-python",
   "name": "python",
   "nbconvert_exporter": "python",
   "pygments_lexer": "ipython3",
   "version": "3.6.4"
  }
 },
 "nbformat": 4,
 "nbformat_minor": 2
}
