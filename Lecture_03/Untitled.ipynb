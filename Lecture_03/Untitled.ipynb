{
 "cells": [
  {
   "cell_type": "code",
   "execution_count": 2,
   "metadata": {},
   "outputs": [],
   "source": [
    "import cv2\n",
    "import os\n",
    "import matplotlib.pyplot as plt\n",
    "import numpy as np\n",
    "import pandas as pd\n",
    "\n",
    "data_1=[]\n",
    "data=[]\n",
    "tata=[]\n",
    "tata_1=[]\n",
    "result=[]\n",
    "#Reading the csv files\n",
    "pokemon_data=pd.read_csv('./Dataset/Pokemon/Training/train.csv')\n",
    "test=pd.read_csv('./Dataset/Pokemon/Testing/test.csv')\n",
    "test=np.array(test)\n",
    "sample=pd.read_csv('./Dataset/Pokemon/Testing/Sample_submission.csv')\n",
    "#Reading data\n",
    "pokemon_data=np.array(pokemon_data)\n",
    "img=os.listdir('./Dataset/Pokemon/Training/Images')\n",
    "#img=cv2.cvtColor(img,cv2.COLOR_BAYER_BG2GRAY)\n",
    "img=np.sort(img)\n",
    "img=np.array(img)\n",
    "Y=pokemon_data[:,[1]]\n",
    "cnt=0\n",
    "#Loading Training images\n",
    "for i in range(img.shape[0]):\n",
    "    d=cv2.imread('./Dataset/Pokemon/Training/Images/'+img[i])\n",
    "    d=cv2.resize(d,(30,30))\n",
    "    data.append(d)\n",
    "X=np.array(data)\n",
    "#Loading Testing Images   \n",
    "for i in range(test.shape[0]):\n",
    "    t=cv2.imread('./Dataset/Pokemon/Testing/Images/'+test[i][0])\n",
    "    t=cv2.resize(t,(30,30))\n",
    "    tata.append(t)\n",
    "te=np.array(tata)\n",
    "\n",
    "\n",
    "#KNN CODE\n",
    "def distance(p1,p2):\n",
    "    return np.sum((p2 - p1)**2)**.5\n",
    "\n",
    "def knn(X,Y,test,k=5):\n",
    "    m = X.shape[0]\n",
    "    result=[]\n",
    "    d = []\n",
    "    for i  in range(m):\n",
    "        dist = distance(test,X[i])\n",
    "        d.append((dist,Y[i]))\n",
    "    \n",
    "    d = np.array(sorted(d))[:,1]\n",
    "    d = d[:k]\n",
    "    t =  np.unique(d,return_counts=True)\n",
    "    idx = np.argmax(t[1])\n",
    "    pred = str(t[0][idx])\n",
    "    result.append(pred)\n",
    "    return result\n",
    "\n",
    "\n",
    "for i in range(test.shape[0]):\n",
    "    result.append(knn(X,Y,te[i],k=5))\n"
   ]
  },
  {
   "cell_type": "code",
   "execution_count": 8,
   "metadata": {},
   "outputs": [],
   "source": [
    "import csv\n",
    "with open('mycsv.csv','w',newline='')as f:\n",
    "    fieldnames=['ImageId','NameOfPokemon']\n",
    "    thewriter=csv.DictWriter(f,fieldnames=fieldnames)\n",
    "    thewriter.writeheader()\n",
    "    for i in range(sample.shape[0]):\n",
    "        thewriter.writerow({'ImageId':str(test[i]),'NameOfPokemon':str(result[i])})"
   ]
  },
  {
   "cell_type": "code",
   "execution_count": 15,
   "metadata": {},
   "outputs": [],
   "source": [
    "mycsv=pd.read_csv('./mycsv.csv')\n"
   ]
  },
  {
   "cell_type": "code",
   "execution_count": 13,
   "metadata": {},
   "outputs": [
    {
     "data": {
      "text/html": [
       "<div>\n",
       "<style scoped>\n",
       "    .dataframe tbody tr th:only-of-type {\n",
       "        vertical-align: middle;\n",
       "    }\n",
       "\n",
       "    .dataframe tbody tr th {\n",
       "        vertical-align: top;\n",
       "    }\n",
       "\n",
       "    .dataframe thead th {\n",
       "        text-align: right;\n",
       "    }\n",
       "</style>\n",
       "<table border=\"1\" class=\"dataframe\">\n",
       "  <thead>\n",
       "    <tr style=\"text-align: right;\">\n",
       "      <th></th>\n",
       "      <th>ImageId</th>\n",
       "      <th>NameOfPokemon</th>\n",
       "    </tr>\n",
       "  </thead>\n",
       "  <tbody>\n",
       "    <tr>\n",
       "      <th>0</th>\n",
       "      <td>1106.jpg</td>\n",
       "      <td>Pikachu</td>\n",
       "    </tr>\n",
       "    <tr>\n",
       "      <th>1</th>\n",
       "      <td>2236.jpg</td>\n",
       "      <td>Pikachu</td>\n",
       "    </tr>\n",
       "    <tr>\n",
       "      <th>2</th>\n",
       "      <td>1131.jpg</td>\n",
       "      <td>Pikachu</td>\n",
       "    </tr>\n",
       "    <tr>\n",
       "      <th>3</th>\n",
       "      <td>2221.jpg</td>\n",
       "      <td>Pikachu</td>\n",
       "    </tr>\n",
       "    <tr>\n",
       "      <th>4</th>\n",
       "      <td>2011.jpg</td>\n",
       "      <td>Pikachu</td>\n",
       "    </tr>\n",
       "    <tr>\n",
       "      <th>5</th>\n",
       "      <td>2030.jpg</td>\n",
       "      <td>Pikachu</td>\n",
       "    </tr>\n",
       "    <tr>\n",
       "      <th>6</th>\n",
       "      <td>2035.jpg</td>\n",
       "      <td>Pikachu</td>\n",
       "    </tr>\n",
       "    <tr>\n",
       "      <th>7</th>\n",
       "      <td>1110.jpg</td>\n",
       "      <td>Pikachu</td>\n",
       "    </tr>\n",
       "    <tr>\n",
       "      <th>8</th>\n",
       "      <td>1104.jpg</td>\n",
       "      <td>Pikachu</td>\n",
       "    </tr>\n",
       "    <tr>\n",
       "      <th>9</th>\n",
       "      <td>2217.jpg</td>\n",
       "      <td>Pikachu</td>\n",
       "    </tr>\n",
       "  </tbody>\n",
       "</table>\n",
       "</div>"
      ],
      "text/plain": [
       "    ImageId NameOfPokemon\n",
       "0  1106.jpg       Pikachu\n",
       "1  2236.jpg       Pikachu\n",
       "2  1131.jpg       Pikachu\n",
       "3  2221.jpg       Pikachu\n",
       "4  2011.jpg       Pikachu\n",
       "5  2030.jpg       Pikachu\n",
       "6  2035.jpg       Pikachu\n",
       "7  1110.jpg       Pikachu\n",
       "8  1104.jpg       Pikachu\n",
       "9  2217.jpg       Pikachu"
      ]
     },
     "execution_count": 13,
     "metadata": {},
     "output_type": "execute_result"
    }
   ],
   "source": [
    "sample.head(10)\n"
   ]
  },
  {
   "cell_type": "code",
   "execution_count": 16,
   "metadata": {},
   "outputs": [
    {
     "data": {
      "text/html": [
       "<div>\n",
       "<style scoped>\n",
       "    .dataframe tbody tr th:only-of-type {\n",
       "        vertical-align: middle;\n",
       "    }\n",
       "\n",
       "    .dataframe tbody tr th {\n",
       "        vertical-align: top;\n",
       "    }\n",
       "\n",
       "    .dataframe thead th {\n",
       "        text-align: right;\n",
       "    }\n",
       "</style>\n",
       "<table border=\"1\" class=\"dataframe\">\n",
       "  <thead>\n",
       "    <tr style=\"text-align: right;\">\n",
       "      <th></th>\n",
       "      <th>ImageId</th>\n",
       "      <th>NameOfPokemon</th>\n",
       "    </tr>\n",
       "  </thead>\n",
       "  <tbody>\n",
       "    <tr>\n",
       "      <th>0</th>\n",
       "      <td>1106.jpg</td>\n",
       "      <td>Bulbasaur</td>\n",
       "    </tr>\n",
       "    <tr>\n",
       "      <th>1</th>\n",
       "      <td>2236.jpg</td>\n",
       "      <td>Charmander</td>\n",
       "    </tr>\n",
       "    <tr>\n",
       "      <th>2</th>\n",
       "      <td>1131.jpg</td>\n",
       "      <td>Bulbasaur</td>\n",
       "    </tr>\n",
       "    <tr>\n",
       "      <th>3</th>\n",
       "      <td>2221.jpg</td>\n",
       "      <td>Pikachu</td>\n",
       "    </tr>\n",
       "    <tr>\n",
       "      <th>4</th>\n",
       "      <td>2011.jpg</td>\n",
       "      <td>Charmander</td>\n",
       "    </tr>\n",
       "  </tbody>\n",
       "</table>\n",
       "</div>"
      ],
      "text/plain": [
       "    ImageId NameOfPokemon\n",
       "0  1106.jpg     Bulbasaur\n",
       "1  2236.jpg    Charmander\n",
       "2  1131.jpg     Bulbasaur\n",
       "3  2221.jpg       Pikachu\n",
       "4  2011.jpg    Charmander"
      ]
     },
     "execution_count": 16,
     "metadata": {},
     "output_type": "execute_result"
    }
   ],
   "source": [
    "mycsv.head()"
   ]
  },
  {
   "cell_type": "code",
   "execution_count": null,
   "metadata": {},
   "outputs": [],
   "source": []
  },
  {
   "cell_type": "code",
   "execution_count": 27,
   "metadata": {},
   "outputs": [
    {
     "data": {
      "text/plain": [
       "()"
      ]
     },
     "execution_count": 27,
     "metadata": {},
     "output_type": "execute_result"
    }
   ],
   "source": []
  },
  {
   "cell_type": "code",
   "execution_count": null,
   "metadata": {},
   "outputs": [],
   "source": []
  }
 ],
 "metadata": {
  "kernelspec": {
   "display_name": "Python 3",
   "language": "python",
   "name": "python3"
  },
  "language_info": {
   "codemirror_mode": {
    "name": "ipython",
    "version": 3
   },
   "file_extension": ".py",
   "mimetype": "text/x-python",
   "name": "python",
   "nbconvert_exporter": "python",
   "pygments_lexer": "ipython3",
   "version": "3.6.4"
  }
 },
 "nbformat": 4,
 "nbformat_minor": 2
}
