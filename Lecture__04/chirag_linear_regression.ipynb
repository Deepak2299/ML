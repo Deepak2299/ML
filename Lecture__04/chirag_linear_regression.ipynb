{
 "cells": [
  {
   "cell_type": "code",
   "execution_count": 289,
   "metadata": {},
   "outputs": [],
   "source": [
    "import pandas as pd\n",
    "import matplotlib.pyplot as plt\n",
    "import cv2\n",
    "import numpy as np"
   ]
  },
  {
   "cell_type": "code",
   "execution_count": 271,
   "metadata": {},
   "outputs": [],
   "source": [
    "X=pd.read_csv('./Dataset/Training/Linear_X_Train.csv').values\n",
    "Y=pd.read_csv('./Dataset/Training/Linear_Y_Train.csv').values"
   ]
  },
  {
   "cell_type": "code",
   "execution_count": 272,
   "metadata": {},
   "outputs": [],
   "source": [
    "#X=np.random.randn(100)\n",
    "#e=np.random.randn(100)\n",
    "#Y=X*2-5-e\n",
    "X=X[:700,]\n",
    "Y=Y[:700,]"
   ]
  },
  {
   "cell_type": "code",
   "execution_count": 260,
   "metadata": {},
   "outputs": [],
   "source": [
    "theta=np.zeros((2,1))\n",
    "#theta[0]=slope\n",
    "#theta[1]=intercept"
   ]
  },
  {
   "cell_type": "code",
   "execution_count": 261,
   "metadata": {},
   "outputs": [],
   "source": [
    "def hypothesis(X,theta):\n",
    "    return theta[0]*X+theta[1]"
   ]
  },
  {
   "cell_type": "code",
   "execution_count": 262,
   "metadata": {},
   "outputs": [],
   "source": [
    "\n",
    "def error(Y,h):\n",
    "    sum=0\n",
    "    for i in range(X.shape[0]):\n",
    "        sum+=(Y[i]-h[i])**2\n",
    "    return sum\n",
    "    "
   ]
  },
  {
   "cell_type": "code",
   "execution_count": 263,
   "metadata": {},
   "outputs": [],
   "source": [
    "#gradient_descent\n",
    "\n",
    "def grad(x,y,theta):\n",
    "    grad1=np.zeros((2,1),dtype=np.float64)\n",
    "    for i in range(X.shape[0]):\n",
    "        grad1[0]+=2*(theta[0]*x[i]+theta[1]-y[i])*x[i]\n",
    "        grad1[1]+=2*(theta[0]*x[i]+theta[1]-y[i])\n",
    "    return grad1\n"
   ]
  },
  {
   "cell_type": "code",
   "execution_count": 264,
   "metadata": {},
   "outputs": [],
   "source": [
    "#theta update\n",
    "def theta_update(X,Y,learning_rate=0.001,steps=1000):\n",
    "    e_list=[]\n",
    "    for i in range(steps):\n",
    "        grad1=grad(X,Y,theta)\n",
    "        theta[0]=theta[0]-learning_rate*grad1[0]\n",
    "        theta[1]=theta[1]-learning_rate*grad1[1]\n",
    "\n",
    "        #print(theta)\n",
    "        h=hypothesis(X,theta)\n",
    "        e1=error(Y,h)\n",
    "        e_list.append(e1)\n",
    "    return theta,e_list"
   ]
  },
  {
   "cell_type": "code",
   "execution_count": 265,
   "metadata": {},
   "outputs": [],
   "source": [
    "h=hypothesis(X,theta)\n"
   ]
  },
  {
   "cell_type": "code",
   "execution_count": 273,
   "metadata": {},
   "outputs": [],
   "source": [
    "A,B=theta_update(X,Y)\n",
    "    "
   ]
  },
  {
   "cell_type": "code",
   "execution_count": 274,
   "metadata": {},
   "outputs": [],
   "source": [
    "g=theta[0]*X+theta[1]"
   ]
  },
  {
   "cell_type": "code",
   "execution_count": 282,
   "metadata": {},
   "outputs": [
    {
     "data": {
      "image/png": "[encoded data removed]",
      "text/plain": [
       "<matplotlib.figure.Figure at 0x7f55437182e8>"
      ]
     },
     "metadata": {},
     "output_type": "display_data"
    }
   ],
   "source": [
    "plt.scatter(X,g,c=\"red\")\n",
    "#plt.scatter(X,Y)\n",
    "plt.show()"
   ]
  },
  {
   "cell_type": "code",
   "execution_count": 276,
   "metadata": {},
   "outputs": [
    {
     "data": {
      "text/plain": [
       "array([[80.16996184],\n",
       "       [ 3.53894724]])"
      ]
     },
     "execution_count": 276,
     "metadata": {},
     "output_type": "execute_result"
    }
   ],
   "source": [
    "A"
   ]
  },
  {
   "cell_type": "code",
   "execution_count": 277,
   "metadata": {},
   "outputs": [
    {
     "data": {
      "text/plain": [
       "(700, 1)"
      ]
     },
     "execution_count": 277,
     "metadata": {},
     "output_type": "execute_result"
    }
   ],
   "source": [
    "X.shape"
   ]
  },
  {
   "cell_type": "code",
   "execution_count": 278,
   "metadata": {},
   "outputs": [],
   "source": [
    "X_Test=pd.read_csv('./Dataset/Testing/Linear_X_Test.csv').values"
   ]
  },
  {
   "cell_type": "code",
   "execution_count": 280,
   "metadata": {},
   "outputs": [
    {
     "data": {
      "text/plain": [
       "(1250, 1)"
      ]
     },
     "execution_count": 280,
     "metadata": {},
     "output_type": "execute_result"
    }
   ],
   "source": [
    "X_Test.shape"
   ]
  },
  {
   "cell_type": "code",
   "execution_count": 284,
   "metadata": {},
   "outputs": [
    {
     "data": {
      "text/plain": [
       "array([80.16996184])"
      ]
     },
     "execution_count": 284,
     "metadata": {},
     "output_type": "execute_result"
    }
   ],
   "source": [
    "theta[0]\n"
   ]
  },
  {
   "cell_type": "code",
   "execution_count": 297,
   "metadata": {},
   "outputs": [],
   "source": [
    "Pred_Y=[]\n",
    "for i in X_Test:\n",
    "    val=theta[0]*i+theta[1]\n",
    "    Pred_Y.append(val)"
   ]
  },
  {
   "cell_type": "code",
   "execution_count": 298,
   "metadata": {},
   "outputs": [],
   "source": [
    "Pred_Y=np.array(Pred_Y)"
   ]
  },
  {
   "cell_type": "code",
   "execution_count": 299,
   "metadata": {},
   "outputs": [
    {
     "data": {
      "text/plain": [
       "(1250, 1)"
      ]
     },
     "execution_count": 299,
     "metadata": {},
     "output_type": "execute_result"
    }
   ],
   "source": [
    "Pred_Y.shape"
   ]
  },
  {
   "cell_type": "code",
   "execution_count": 300,
   "metadata": {},
   "outputs": [
    {
     "data": {
      "text/plain": [
       "array([[-147.01578477],\n",
       "       [ -66.13130829],\n",
       "       [-199.30568119],\n",
       "       ...,\n",
       "       [  13.80132938],\n",
       "       [ -18.75131572],\n",
       "       [ -51.01073339]])"
      ]
     },
     "execution_count": 300,
     "metadata": {},
     "output_type": "execute_result"
    }
   ],
   "source": [
    "Pred_Y"
   ]
  },
  {
   "cell_type": "code",
   "execution_count": 301,
   "metadata": {},
   "outputs": [
    {
     "data": {
      "text/plain": [
       "<matplotlib.collections.PathCollection at 0x7f5542b37828>"
      ]
     },
     "execution_count": 301,
     "metadata": {},
     "output_type": "execute_result"
    },
    {
     "data": {
      "image/png": "[encoded data removed]",
      "text/plain": [
       "<matplotlib.figure.Figure at 0x7f55439fb4e0>"
      ]
     },
     "metadata": {},
     "output_type": "display_data"
    }
   ],
   "source": [
    "plt.scatter(X_Test,Pred_Y)"
   ]
  },
  {
   "cell_type": "code",
   "execution_count": 308,
   "metadata": {},
   "outputs": [],
   "source": [
    "import csv\n",
    "with open('./Dataset/mycsv.csv','w',newline='')as f:\n",
    "    fieldnames=['Y']\n",
    "    thewriter=csv.DictWriter(f,fieldnames=fieldnames)\n",
    "    thewriter.writeheader()\n",
    "    for i in range(Pred_Y.shape[0]):\n",
    "        thewriter.writerow({'Y':Pred_Y[i,0]})"
   ]
  },
  {
   "cell_type": "code",
   "execution_count": null,
   "metadata": {},
   "outputs": [],
   "source": []
  },
  {
   "cell_type": "code",
   "execution_count": null,
   "metadata": {},
   "outputs": [],
   "source": []
  }
 ],
 "metadata": {
  "kernelspec": {
   "display_name": "Python 3",
   "language": "python",
   "name": "python3"
  },
  "language_info": {
   "codemirror_mode": {
    "name": "ipython",
    "version": 3
   },
   "file_extension": ".py",
   "mimetype": "text/x-python",
   "name": "python",
   "nbconvert_exporter": "python",
   "pygments_lexer": "ipython3",
   "version": "3.6.4"
  }
 },
 "nbformat": 4,
 "nbformat_minor": 2
}
