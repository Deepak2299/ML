{
 "cells": [
  {
   "cell_type": "code",
   "execution_count": 144,
   "metadata": {},
   "outputs": [],
   "source": [
    "import numpy as np\n",
    "import pandas as pd"
   ]
  },
  {
   "cell_type": "code",
   "execution_count": 152,
   "metadata": {},
   "outputs": [],
   "source": []
  },
  {
   "cell_type": "code",
   "execution_count": 231,
   "metadata": {},
   "outputs": [],
   "source": [
    "#Define Entropy and information Gain\n",
    "def Entropy(col):\n",
    "    N=col.shape[0]\n",
    "    ent=0.0\n",
    "    Y=np.unique(col,return_counts=True)\n",
    "    for i in Y[1]:\n",
    "        p=i/N\n",
    "        ent+=-(p*np.log2(p))\n",
    "    return ent\n",
    "        \n",
    "    "
   ]
  },
  {
   "cell_type": "code",
   "execution_count": 232,
   "metadata": {},
   "outputs": [],
   "source": [
    "def split_data(x_data,f_key,f_val):\n",
    "    x_left=pd.DataFrame([],columns=x_data.columns)#Creates an empty pandas dataframe with given columns\n",
    "    x_right=pd.DataFrame([],columns=x_data.columns)\n",
    "    for j in range(x_data.shape[0]):\n",
    "        val=x_data[f_key].loc[j]\n",
    "        if val<f_val:\n",
    "            x_left=x_left.append(x_data.loc[j])\n",
    "        else:\n",
    "            x_right=x_right.append(x_data.loc[j])\n",
    "    return x_left,x_right\n",
    "                \n",
    "            "
   ]
  },
  {
   "cell_type": "code",
   "execution_count": 233,
   "metadata": {},
   "outputs": [],
   "source": [
    "def Info_gain(x_data,f_key,f_val):\n",
    "    left,right=split_data(x_data,f_key,f_val)\n",
    "    l=float(left.shape[0]/x_data.shape[0])\n",
    "    r=float(right.shape[0]/x_data.shape[0])\n",
    "    sum = Entropy(X['Survived'])-(l*Entropy(left['Survived'])+r*Entropy(right['Survived']))\n",
    "    return sum"
   ]
  },
  {
   "cell_type": "code",
   "execution_count": 238,
   "metadata": {},
   "outputs": [
    {
     "name": "stdout",
     "output_type": "stream",
     "text": [
      "Pclass\n",
      "Sex\n",
      "Sex\n",
      "Sex\n",
      "Sex\n",
      "Sex\n"
     ]
    }
   ],
   "source": [
    "L=[]\n",
    "features=['Pclass','Sex','Age','SibSp','Parch','Fare']\n",
    "for i in features:\n",
    "    val=Info_gain(X,i,X[i].mean())\n",
    "    L.append(val)\n",
    "    print(features[np.argmax(L)])"
   ]
  },
  {
   "cell_type": "code",
   "execution_count": 343,
   "metadata": {},
   "outputs": [
    {
     "data": {
      "text/plain": [
       "['Pclass', 'Sex', 'Age', 'SibSp', 'Parch', 'Fare']"
      ]
     },
     "execution_count": 343,
     "metadata": {},
     "output_type": "execute_result"
    }
   ],
   "source": [
    "features"
   ]
  },
  {
   "cell_type": "code",
   "execution_count": 313,
   "metadata": {},
   "outputs": [],
   "source": [
    "#Creating a decision tree\n",
    "class Decision_tree:\n",
    "    def __init__(self,depth=0,max_depth=3):\n",
    "        self.left=None\n",
    "        self.right=None\n",
    "        self.f_key=None\n",
    "        self.f_val=None\n",
    "        self.depth=depth\n",
    "        self.max_depth=max_depth\n",
    "        self.target=None\n",
    "    def train(self,X_Train):\n",
    "    \n",
    "        features=['Pclass','Sex','Age','SibSp','Parch','Fare']\n",
    "        L=[]\n",
    "        for i in features:\n",
    "            val=Info_gain(X_Train,i,X_Train[i].mean())\n",
    "            L.append(val)\n",
    "        self.f_key=features[np.argmax(L)]\n",
    "        self.f_val=X_Train[self.f_key].mean()\n",
    "        print('Making Features in',self.f_key)\n",
    "        data_left,data_right=split_data(X_Train,self.f_key,self.f_val)\n",
    "        data_left=data_left.reset_index(drop=True)\n",
    "        data_right=data_right.reset_index(drop=True)\n",
    "            #Base Case --->when a leaf node occurs\n",
    "        if data_left.shape[0]==0 or data_right.shape[0]==0:\n",
    "            if X_Train.Survived.mean()>=0.5:\n",
    "                self.target=1\n",
    "            else:\n",
    "                self.target=0\n",
    "            return\n",
    "            #Base Case ---->when max_depth reached\n",
    "        if(self.depth>=self.max_depth):\n",
    "            if X_Train.Survived.mean() >= 0.5:\n",
    "                self.target=1\n",
    "            else:\n",
    "                self.target=0\n",
    "            return\n",
    "            #Recursive case\n",
    "            #left-Tree\n",
    "        self.left=Decision_tree(depth=self.depth+1,max_depth=self.max_depth)\n",
    "        self.left.train(data_left)\n",
    "            #Right-Tree\n",
    "        self.right=Decision_tree(depth=self.depth+1,max_depth=self.max_depth)\n",
    "        self.right.train(data_right)\n",
    "            #Set Target After Every Node\n",
    "        if(self.depth>=self.max_depth):\n",
    "            if X_Train.Survived.mean() >=0.5:\n",
    "                self.target=1\n",
    "            else:\n",
    "                self.target=0\n",
    "            return\n",
    "    def Traverse_Tree(self,test):\n",
    "        if test[self.f_key]>self.f_val:\n",
    "                #Go to right\n",
    "            \n",
    "                #else if right side is not present we will return target\n",
    "            if self.right is None:\n",
    "                return self.target\n",
    "                \n",
    "            return self.right.Traverse_Tree(test)\n",
    "        else:\n",
    "            if self.left is None:\n",
    "                return self.target\n",
    "            return self.left.Traverse_Tree(test)"
   ]
  },
  {
   "cell_type": "code",
   "execution_count": 323,
   "metadata": {},
   "outputs": [],
   "source": [
    "split=0.7\n",
    "x_train_set=X[:int(split*X.shape[0])]\n",
    "x_test_set=X[int(split*X.shape[0]):]\n",
    "x_test_set=x_test_set.reset_index(drop=True)\n",
    "\n",
    "y_actual=x_test_set['Survived']"
   ]
  },
  {
   "cell_type": "code",
   "execution_count": 316,
   "metadata": {},
   "outputs": [],
   "source": [
    "x_test_set=x_test_set.drop(columns='Survived')"
   ]
  },
  {
   "cell_type": "code",
   "execution_count": 317,
   "metadata": {},
   "outputs": [
    {
     "name": "stdout",
     "output_type": "stream",
     "text": [
      "Making Features in Sex\n",
      "Making Features in Pclass\n",
      "Making Features in Age\n",
      "Making Features in SibSp\n",
      "Making Features in SibSp\n",
      "Making Features in Parch\n",
      "Making Features in SibSp\n",
      "Making Features in Fare\n",
      "Making Features in Fare\n",
      "Making Features in Parch\n",
      "Making Features in Fare\n",
      "Making Features in Age\n",
      "Making Features in Pclass\n",
      "Making Features in Age\n",
      "Making Features in SibSp\n"
     ]
    }
   ],
   "source": [
    "dt=Decision_tree()\n",
    "dt.train(x_train_set)"
   ]
  },
  {
   "cell_type": "code",
   "execution_count": 318,
   "metadata": {},
   "outputs": [],
   "source": [
    "y_pred=[]\n",
    "for ix in range(x_test_set.shape[0]):\n",
    "    val=dt.Traverse_Tree(x_test_set.loc[ix])\n",
    "    y_pred.append(val)"
   ]
  },
  {
   "cell_type": "code",
   "execution_count": 324,
   "metadata": {},
   "outputs": [
    {
     "data": {
      "text/plain": [
       "0.8134328358208955"
      ]
     },
     "execution_count": 324,
     "metadata": {},
     "output_type": "execute_result"
    }
   ],
   "source": [
    "np.sum(y_actual==y_pred)/y_actual.shape[0]"
   ]
  },
  {
   "cell_type": "code",
   "execution_count": 326,
   "metadata": {},
   "outputs": [],
   "source": [
    "#Now I will load the data for titanic challenge"
   ]
  },
  {
   "cell_type": "code",
   "execution_count": 327,
   "metadata": {},
   "outputs": [],
   "source": [
    "titanic=pd.read_csv('./titanic.csv')"
   ]
  },
  {
   "cell_type": "code",
   "execution_count": 329,
   "metadata": {},
   "outputs": [
    {
     "data": {
      "text/html": [
       "<div>\n",
       "<style scoped>\n",
       "    .dataframe tbody tr th:only-of-type {\n",
       "        vertical-align: middle;\n",
       "    }\n",
       "\n",
       "    .dataframe tbody tr th {\n",
       "        vertical-align: top;\n",
       "    }\n",
       "\n",
       "    .dataframe thead th {\n",
       "        text-align: right;\n",
       "    }\n",
       "</style>\n",
       "<table border=\"1\" class=\"dataframe\">\n",
       "  <thead>\n",
       "    <tr style=\"text-align: right;\">\n",
       "      <th></th>\n",
       "      <th>PassengerId</th>\n",
       "      <th>Survived</th>\n",
       "      <th>Pclass</th>\n",
       "      <th>Name</th>\n",
       "      <th>Sex</th>\n",
       "      <th>Age</th>\n",
       "      <th>SibSp</th>\n",
       "      <th>Parch</th>\n",
       "      <th>Ticket</th>\n",
       "      <th>Fare</th>\n",
       "      <th>Cabin</th>\n",
       "      <th>Embarked</th>\n",
       "    </tr>\n",
       "  </thead>\n",
       "  <tbody>\n",
       "    <tr>\n",
       "      <th>0</th>\n",
       "      <td>1</td>\n",
       "      <td>0</td>\n",
       "      <td>3</td>\n",
       "      <td>Braund, Mr. Owen Harris</td>\n",
       "      <td>male</td>\n",
       "      <td>22.0</td>\n",
       "      <td>1</td>\n",
       "      <td>0</td>\n",
       "      <td>A/5 21171</td>\n",
       "      <td>7.2500</td>\n",
       "      <td>NaN</td>\n",
       "      <td>S</td>\n",
       "    </tr>\n",
       "    <tr>\n",
       "      <th>1</th>\n",
       "      <td>2</td>\n",
       "      <td>1</td>\n",
       "      <td>1</td>\n",
       "      <td>Cumings, Mrs. John Bradley (Florence Briggs Th...</td>\n",
       "      <td>female</td>\n",
       "      <td>38.0</td>\n",
       "      <td>1</td>\n",
       "      <td>0</td>\n",
       "      <td>PC 17599</td>\n",
       "      <td>71.2833</td>\n",
       "      <td>C85</td>\n",
       "      <td>C</td>\n",
       "    </tr>\n",
       "    <tr>\n",
       "      <th>2</th>\n",
       "      <td>3</td>\n",
       "      <td>1</td>\n",
       "      <td>3</td>\n",
       "      <td>Heikkinen, Miss. Laina</td>\n",
       "      <td>female</td>\n",
       "      <td>26.0</td>\n",
       "      <td>0</td>\n",
       "      <td>0</td>\n",
       "      <td>STON/O2. 3101282</td>\n",
       "      <td>7.9250</td>\n",
       "      <td>NaN</td>\n",
       "      <td>S</td>\n",
       "    </tr>\n",
       "    <tr>\n",
       "      <th>3</th>\n",
       "      <td>4</td>\n",
       "      <td>1</td>\n",
       "      <td>1</td>\n",
       "      <td>Futrelle, Mrs. Jacques Heath (Lily May Peel)</td>\n",
       "      <td>female</td>\n",
       "      <td>35.0</td>\n",
       "      <td>1</td>\n",
       "      <td>0</td>\n",
       "      <td>113803</td>\n",
       "      <td>53.1000</td>\n",
       "      <td>C123</td>\n",
       "      <td>S</td>\n",
       "    </tr>\n",
       "    <tr>\n",
       "      <th>4</th>\n",
       "      <td>5</td>\n",
       "      <td>0</td>\n",
       "      <td>3</td>\n",
       "      <td>Allen, Mr. William Henry</td>\n",
       "      <td>male</td>\n",
       "      <td>35.0</td>\n",
       "      <td>0</td>\n",
       "      <td>0</td>\n",
       "      <td>373450</td>\n",
       "      <td>8.0500</td>\n",
       "      <td>NaN</td>\n",
       "      <td>S</td>\n",
       "    </tr>\n",
       "  </tbody>\n",
       "</table>\n",
       "</div>"
      ],
      "text/plain": [
       "   PassengerId  Survived  Pclass  \\\n",
       "0            1         0       3   \n",
       "1            2         1       1   \n",
       "2            3         1       3   \n",
       "3            4         1       1   \n",
       "4            5         0       3   \n",
       "\n",
       "                                                Name     Sex   Age  SibSp  \\\n",
       "0                            Braund, Mr. Owen Harris    male  22.0      1   \n",
       "1  Cumings, Mrs. John Bradley (Florence Briggs Th...  female  38.0      1   \n",
       "2                             Heikkinen, Miss. Laina  female  26.0      0   \n",
       "3       Futrelle, Mrs. Jacques Heath (Lily May Peel)  female  35.0      1   \n",
       "4                           Allen, Mr. William Henry    male  35.0      0   \n",
       "\n",
       "   Parch            Ticket     Fare Cabin Embarked  \n",
       "0      0         A/5 21171   7.2500   NaN        S  \n",
       "1      0          PC 17599  71.2833   C85        C  \n",
       "2      0  STON/O2. 3101282   7.9250   NaN        S  \n",
       "3      0            113803  53.1000  C123        S  \n",
       "4      0            373450   8.0500   NaN        S  "
      ]
     },
     "execution_count": 329,
     "metadata": {},
     "output_type": "execute_result"
    }
   ],
   "source": [
    "titanic.head(5)#Now we will remove some not useful columns from dataset"
   ]
  },
  {
   "cell_type": "code",
   "execution_count": 330,
   "metadata": {},
   "outputs": [],
   "source": [
    "not_useful=['PassengerId','Name','Ticket','Cabin','Embarked']"
   ]
  },
  {
   "cell_type": "code",
   "execution_count": 337,
   "metadata": {},
   "outputs": [],
   "source": [
    "clean_data=titanic.drop(columns=not_useful)"
   ]
  },
  {
   "cell_type": "code",
   "execution_count": 341,
   "metadata": {},
   "outputs": [],
   "source": [
    "clean_data=clean_data.fillna(clean_data['Age'].mean())#Filling theNAN values with mean age"
   ]
  },
  {
   "cell_type": "code",
   "execution_count": 342,
   "metadata": {},
   "outputs": [
    {
     "name": "stdout",
     "output_type": "stream",
     "text": [
      "<class 'pandas.core.frame.DataFrame'>\n",
      "RangeIndex: 891 entries, 0 to 890\n",
      "Data columns (total 7 columns):\n",
      "Survived    891 non-null int64\n",
      "Pclass      891 non-null int64\n",
      "Sex         891 non-null object\n",
      "Age         891 non-null float64\n",
      "SibSp       891 non-null int64\n",
      "Parch       891 non-null int64\n",
      "Fare        891 non-null float64\n",
      "dtypes: float64(2), int64(4), object(1)\n",
      "memory usage: 48.8+ KB\n"
     ]
    }
   ],
   "source": [
    "clean_data.info()"
   ]
  },
  {
   "cell_type": "code",
   "execution_count": null,
   "metadata": {},
   "outputs": [],
   "source": []
  }
 ],
 "metadata": {
  "kernelspec": {
   "display_name": "Python 3",
   "language": "python",
   "name": "python3"
  },
  "language_info": {
   "codemirror_mode": {
    "name": "ipython",
    "version": 3
   },
   "file_extension": ".py",
   "mimetype": "text/x-python",
   "name": "python",
   "nbconvert_exporter": "python",
   "pygments_lexer": "ipython3",
   "version": "3.6.4"
  }
 },
 "nbformat": 4,
 "nbformat_minor": 2
}
