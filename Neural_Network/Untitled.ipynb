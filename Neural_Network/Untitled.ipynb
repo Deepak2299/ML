{
 "cells": [
  {
   "cell_type": "code",
   "execution_count": 30,
   "metadata": {},
   "outputs": [],
   "source": [
    "#Working on boston housing dataset using neuralnetwork\n"
   ]
  },
  {
   "cell_type": "code",
   "execution_count": 32,
   "metadata": {},
   "outputs": [],
   "source": [
    "from keras.datasets import boston_housing"
   ]
  },
  {
   "cell_type": "code",
   "execution_count": 33,
   "metadata": {},
   "outputs": [],
   "source": [
    "Train,Test=boston_housing.load_data()"
   ]
  },
  {
   "cell_type": "code",
   "execution_count": 38,
   "metadata": {},
   "outputs": [],
   "source": [
    "X_Train=Train[0]\n",
    "Y_Train=Train[1]"
   ]
  },
  {
   "cell_type": "code",
   "execution_count": 40,
   "metadata": {},
   "outputs": [],
   "source": [
    "X_test,Y_test=Test"
   ]
  },
  {
   "cell_type": "code",
   "execution_count": 45,
   "metadata": {},
   "outputs": [],
   "source": [
    "import matplotlib.pyplot as plt"
   ]
  },
  {
   "cell_type": "code",
   "execution_count": 56,
   "metadata": {},
   "outputs": [],
   "source": [
    "#plt.plot(X_Train)\n",
    "mean=X_Train.mean(axis=0)\n",
    "std=X_Train.std(axis=0)"
   ]
  },
  {
   "cell_type": "code",
   "execution_count": 57,
   "metadata": {},
   "outputs": [],
   "source": [
    "X_Train=(X_Train-mean)/std\n",
    "X_test=(X_test-mean)/std"
   ]
  },
  {
   "cell_type": "code",
   "execution_count": 60,
   "metadata": {},
   "outputs": [],
   "source": [
    "#Building our model\n",
    "from keras import Sequential\n",
    "from keras.layers import Dense\n",
    "import numpy  as np\n",
    "from keras import backend as K\n",
    "\n",
    "#Defining R2 score a way to calculate score or loss\n",
    "def R2score(y_true,y_pred):\n",
    "    num=K.sum(K.square(y_true-y_pred))\n",
    "    den=K.sum(K.square(y_true-K.mean(y_true)))\n",
    "    return 1-num/den\n",
    "    "
   ]
  },
  {
   "cell_type": "code",
   "execution_count": 69,
   "metadata": {},
   "outputs": [],
   "source": [
    "def getModel():\n",
    "    model=Sequential()\n",
    "    model.add(Dense(64,activation='relu',input_shape=(13,)))\n",
    "    model.add(Dense(32,activation='relu'))\n",
    "    model.add(Dense(1))\n",
    "    \n",
    "    model.compile(optimizer='adam',loss='mse',metrics=[R2score])\n",
    "    return model"
   ]
  },
  {
   "cell_type": "code",
   "execution_count": 70,
   "metadata": {},
   "outputs": [],
   "source": [
    "model=getModel()"
   ]
  },
  {
   "cell_type": "code",
   "execution_count": 71,
   "metadata": {},
   "outputs": [
    {
     "name": "stdout",
     "output_type": "stream",
     "text": [
      "_________________________________________________________________\n",
      "Layer (type)                 Output Shape              Param #   \n",
      "=================================================================\n",
      "dense_5 (Dense)              (None, 64)                896       \n",
      "_________________________________________________________________\n",
      "dense_6 (Dense)              (None, 32)                2080      \n",
      "_________________________________________________________________\n",
      "dense_7 (Dense)              (None, 1)                 33        \n",
      "=================================================================\n",
      "Total params: 3,009\n",
      "Trainable params: 3,009\n",
      "Non-trainable params: 0\n",
      "_________________________________________________________________\n"
     ]
    }
   ],
   "source": [
    "model.summary()"
   ]
  },
  {
   "cell_type": "code",
   "execution_count": 72,
   "metadata": {},
   "outputs": [
    {
     "name": "stdout",
     "output_type": "stream",
     "text": [
      "Train on 404 samples, validate on 102 samples\n",
      "Epoch 1/30\n",
      "404/404 [==============================] - 1s 2ms/step - loss: 568.7335 - R2score: -6.2695 - val_loss: 574.0184 - val_R2score: -6.4775\n",
      "Epoch 2/30\n",
      "404/404 [==============================] - 0s 90us/step - loss: 522.5297 - R2score: -5.7014 - val_loss: 524.6744 - val_R2score: -5.8265\n",
      "Epoch 3/30\n",
      "404/404 [==============================] - 0s 75us/step - loss: 469.8512 - R2score: -5.0647 - val_loss: 463.5918 - val_R2score: -5.0234\n",
      "Epoch 4/30\n",
      "404/404 [==============================] - 0s 85us/step - loss: 405.0379 - R2score: -4.0259 - val_loss: 387.2143 - val_R2score: -4.0227\n",
      "Epoch 5/30\n",
      "404/404 [==============================] - 0s 98us/step - loss: 323.9968 - R2score: -3.3289 - val_loss: 293.8569 - val_R2score: -2.8020\n",
      "Epoch 6/30\n",
      "404/404 [==============================] - 0s 107us/step - loss: 229.7230 - R2score: -2.0975 - val_loss: 194.6908 - val_R2score: -1.5123\n",
      "Epoch 7/30\n",
      "404/404 [==============================] - 0s 86us/step - loss: 142.7977 - R2score: -0.7627 - val_loss: 115.0929 - val_R2score: -0.4876\n",
      "Epoch 8/30\n",
      "404/404 [==============================] - 0s 79us/step - loss: 84.7863 - R2score: -0.0524 - val_loss: 72.7890 - val_R2score: 0.0470\n",
      "Epoch 9/30\n",
      "404/404 [==============================] - 0s 91us/step - loss: 60.2631 - R2score: 0.2706 - val_loss: 54.3117 - val_R2score: 0.2814\n",
      "Epoch 10/30\n",
      "404/404 [==============================] - 0s 97us/step - loss: 47.0317 - R2score: 0.4286 - val_loss: 44.3076 - val_R2score: 0.4150\n",
      "Epoch 11/30\n",
      "404/404 [==============================] - 0s 92us/step - loss: 38.9087 - R2score: 0.5109 - val_loss: 37.2853 - val_R2score: 0.5108\n",
      "Epoch 12/30\n",
      "404/404 [==============================] - 0s 95us/step - loss: 33.3297 - R2score: 0.5623 - val_loss: 33.2888 - val_R2score: 0.5652\n",
      "Epoch 13/30\n",
      "404/404 [==============================] - 0s 108us/step - loss: 29.8937 - R2score: 0.6348 - val_loss: 30.7713 - val_R2score: 0.5989\n",
      "Epoch 14/30\n",
      "404/404 [==============================] - 0s 89us/step - loss: 27.4932 - R2score: 0.6337 - val_loss: 29.4535 - val_R2score: 0.6169\n",
      "Epoch 15/30\n",
      "404/404 [==============================] - 0s 83us/step - loss: 25.8990 - R2score: 0.6278 - val_loss: 28.3776 - val_R2score: 0.6318\n",
      "Epoch 16/30\n",
      "404/404 [==============================] - 0s 106us/step - loss: 24.7162 - R2score: 0.7030 - val_loss: 27.8893 - val_R2score: 0.6395\n",
      "Epoch 17/30\n",
      "404/404 [==============================] - 0s 89us/step - loss: 23.6912 - R2score: 0.6983 - val_loss: 27.0126 - val_R2score: 0.6519\n",
      "Epoch 18/30\n",
      "404/404 [==============================] - 0s 126us/step - loss: 22.6155 - R2score: 0.6980 - val_loss: 26.5979 - val_R2score: 0.6584\n",
      "Epoch 19/30\n",
      "404/404 [==============================] - 0s 79us/step - loss: 21.7261 - R2score: 0.7205 - val_loss: 26.4625 - val_R2score: 0.6610\n",
      "Epoch 20/30\n",
      "404/404 [==============================] - 0s 105us/step - loss: 20.9788 - R2score: 0.7214 - val_loss: 26.0738 - val_R2score: 0.6667\n",
      "Epoch 21/30\n",
      "404/404 [==============================] - 0s 58us/step - loss: 20.3853 - R2score: 0.7454 - val_loss: 25.6702 - val_R2score: 0.6729\n",
      "Epoch 22/30\n",
      "404/404 [==============================] - 0s 91us/step - loss: 19.5291 - R2score: 0.7598 - val_loss: 25.1217 - val_R2score: 0.6804\n",
      "Epoch 23/30\n",
      "404/404 [==============================] - 0s 111us/step - loss: 18.8660 - R2score: 0.7699 - val_loss: 24.7261 - val_R2score: 0.6859\n",
      "Epoch 24/30\n",
      "404/404 [==============================] - 0s 104us/step - loss: 18.4014 - R2score: 0.7709 - val_loss: 25.0253 - val_R2score: 0.6827\n",
      "Epoch 25/30\n",
      "404/404 [==============================] - 0s 130us/step - loss: 17.7805 - R2score: 0.7671 - val_loss: 24.2884 - val_R2score: 0.6924\n",
      "Epoch 26/30\n",
      "404/404 [==============================] - 0s 106us/step - loss: 17.1612 - R2score: 0.7865 - val_loss: 24.2937 - val_R2score: 0.6928\n",
      "Epoch 27/30\n",
      "404/404 [==============================] - 0s 100us/step - loss: 16.6712 - R2score: 0.7832 - val_loss: 23.9684 - val_R2score: 0.6973\n",
      "Epoch 28/30\n",
      "404/404 [==============================] - 0s 93us/step - loss: 16.1694 - R2score: 0.7927 - val_loss: 23.8693 - val_R2score: 0.6988\n",
      "Epoch 29/30\n",
      "404/404 [==============================] - 0s 122us/step - loss: 15.7584 - R2score: 0.8168 - val_loss: 24.0198 - val_R2score: 0.6972\n",
      "Epoch 30/30\n",
      "404/404 [==============================] - 0s 75us/step - loss: 15.3238 - R2score: 0.8069 - val_loss: 23.6572 - val_R2score: 0.7019\n"
     ]
    }
   ],
   "source": [
    "hist=model.fit(X_Train,Y_Train,epochs=30,validation_data=(X_test,Y_test),verbose=1)"
   ]
  },
  {
   "cell_type": "code",
   "execution_count": null,
   "metadata": {},
   "outputs": [],
   "source": []
  }
 ],
 "metadata": {
  "kernelspec": {
   "display_name": "Python 3",
   "language": "python",
   "name": "python3"
  },
  "language_info": {
   "codemirror_mode": {
    "name": "ipython",
    "version": 3
   },
   "file_extension": ".py",
   "mimetype": "text/x-python",
   "name": "python",
   "nbconvert_exporter": "python",
   "pygments_lexer": "ipython3",
   "version": "3.6.4"
  }
 },
 "nbformat": 4,
 "nbformat_minor": 2
}
