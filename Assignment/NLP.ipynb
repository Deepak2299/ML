{
 "cells": [
  {
   "cell_type": "code",
   "execution_count": 144,
   "metadata": {},
   "outputs": [],
   "source": [
    "import nltk\n"
   ]
  },
  {
   "cell_type": "code",
   "execution_count": 145,
   "metadata": {},
   "outputs": [],
   "source": [
    "from nltk.corpus import brown"
   ]
  },
  {
   "cell_type": "code",
   "execution_count": null,
   "metadata": {},
   "outputs": [],
   "source": []
  },
  {
   "cell_type": "code",
   "execution_count": 204,
   "metadata": {},
   "outputs": [],
   "source": [
    "import sklearn"
   ]
  },
  {
   "cell_type": "code",
   "execution_count": 147,
   "metadata": {},
   "outputs": [],
   "source": [
    "from sklearn.datasets import fetch_20newsgroups"
   ]
  },
  {
   "cell_type": "code",
   "execution_count": 148,
   "metadata": {},
   "outputs": [],
   "source": [
    "newsgroups=fetch_20newsgroups()"
   ]
  },
  {
   "cell_type": "code",
   "execution_count": 319,
   "metadata": {},
   "outputs": [],
   "source": [
    "X=newsgroups.data\n",
    "Y=newsgroups.target_names"
   ]
  },
  {
   "cell_type": "code",
   "execution_count": 320,
   "metadata": {},
   "outputs": [
    {
     "data": {
      "text/plain": [
       "['alt.atheism',\n",
       " 'comp.graphics',\n",
       " 'comp.os.ms-windows.misc',\n",
       " 'comp.sys.ibm.pc.hardware',\n",
       " 'comp.sys.mac.hardware',\n",
       " 'comp.windows.x',\n",
       " 'misc.forsale',\n",
       " 'rec.autos',\n",
       " 'rec.motorcycles',\n",
       " 'rec.sport.baseball',\n",
       " 'rec.sport.hockey',\n",
       " 'sci.crypt',\n",
       " 'sci.electronics',\n",
       " 'sci.med',\n",
       " 'sci.space',\n",
       " 'soc.religion.christian',\n",
       " 'talk.politics.guns',\n",
       " 'talk.politics.mideast',\n",
       " 'talk.politics.misc',\n",
       " 'talk.religion.misc']"
      ]
     },
     "execution_count": 320,
     "metadata": {},
     "output_type": "execute_result"
    }
   ],
   "source": [
    "Y"
   ]
  },
  {
   "cell_type": "code",
   "execution_count": 636,
   "metadata": {},
   "outputs": [
    {
     "data": {
      "text/plain": [
       "array([7, 4, 4, ..., 3, 1, 8])"
      ]
     },
     "execution_count": 636,
     "metadata": {},
     "output_type": "execute_result"
    }
   ],
   "source": [
    "A=newsgroups.target\n",
    "A"
   ]
  },
  {
   "cell_type": "code",
   "execution_count": 322,
   "metadata": {},
   "outputs": [],
   "source": [
    "C.clear()"
   ]
  },
  {
   "cell_type": "code",
   "execution_count": 323,
   "metadata": {},
   "outputs": [],
   "source": [
    "C=[]"
   ]
  },
  {
   "cell_type": "code",
   "execution_count": 324,
   "metadata": {},
   "outputs": [
    {
     "ename": "AttributeError",
     "evalue": "'list' object has no attribute 'update'",
     "output_type": "error",
     "traceback": [
      "\u001b[0;31m-----------------------------------------------------------------------\u001b[0m",
      "\u001b[0;31mAttributeError\u001b[0m                        Traceback (most recent call last)",
      "\u001b[0;32m<ipython-input-324-234ed788c630>\u001b[0m in \u001b[0;36m<module>\u001b[0;34m()\u001b[0m\n\u001b[1;32m      1\u001b[0m \u001b[0;32mfor\u001b[0m \u001b[0mi\u001b[0m \u001b[0;32min\u001b[0m \u001b[0mrange\u001b[0m\u001b[0;34m(\u001b[0m\u001b[0mA\u001b[0m\u001b[0;34m.\u001b[0m\u001b[0mshape\u001b[0m\u001b[0;34m[\u001b[0m\u001b[0;36m0\u001b[0m\u001b[0;34m]\u001b[0m\u001b[0;34m)\u001b[0m\u001b[0;34m:\u001b[0m\u001b[0;34m\u001b[0m\u001b[0m\n\u001b[1;32m      2\u001b[0m     \u001b[0mval\u001b[0m\u001b[0;34m=\u001b[0m\u001b[0;34m{\u001b[0m\u001b[0mY\u001b[0m\u001b[0;34m[\u001b[0m\u001b[0mA\u001b[0m\u001b[0;34m[\u001b[0m\u001b[0mi\u001b[0m\u001b[0;34m]\u001b[0m\u001b[0;34m]\u001b[0m\u001b[0;34m:\u001b[0m\u001b[0mX\u001b[0m\u001b[0;34m[\u001b[0m\u001b[0mi\u001b[0m\u001b[0;34m]\u001b[0m\u001b[0;34m}\u001b[0m\u001b[0;34m\u001b[0m\u001b[0m\n\u001b[0;32m----> 3\u001b[0;31m     \u001b[0mC\u001b[0m\u001b[0;34m.\u001b[0m\u001b[0mupdate\u001b[0m\u001b[0;34m(\u001b[0m\u001b[0mval\u001b[0m\u001b[0;34m)\u001b[0m\u001b[0;34m\u001b[0m\u001b[0m\n\u001b[0m",
      "\u001b[0;31mAttributeError\u001b[0m: 'list' object has no attribute 'update'"
     ]
    }
   ],
   "source": [
    "for i in range(A.shape[0]):\n",
    "    val={Y[A[i]]:X[i]}\n",
    "    C.update(val)"
   ]
  },
  {
   "cell_type": "code",
   "execution_count": 325,
   "metadata": {},
   "outputs": [],
   "source": [
    "for i in range(A.shape[0]):\n",
    "    C.append(Y[A[i]])\n",
    "    "
   ]
  },
  {
   "cell_type": "code",
   "execution_count": null,
   "metadata": {},
   "outputs": [],
   "source": []
  },
  {
   "cell_type": "code",
   "execution_count": 569,
   "metadata": {},
   "outputs": [],
   "source": [
    "L=[]"
   ]
  },
  {
   "cell_type": "code",
   "execution_count": 570,
   "metadata": {},
   "outputs": [],
   "source": [
    "D={}"
   ]
  },
  {
   "cell_type": "code",
   "execution_count": 633,
   "metadata": {},
   "outputs": [
    {
     "name": "stdout",
     "output_type": "stream",
     "text": [
      "481\n"
     ]
    }
   ],
   "source": [
    "final_list=[]\n",
    "for i in range(len(Y)):\n",
    "    List=[]\n",
    "    List.append(Y[i])\n",
    "    for j in range(len(C)):\n",
    "        if(Y[i]==C[j]):\n",
    "            List.append(X[j])\n",
    "    final_list.append(List)\n",
    "print(len(final_list[0]))\n",
    "                \n",
    "        "
   ]
  },
  {
   "cell_type": "code",
   "execution_count": 634,
   "metadata": {},
   "outputs": [],
   "source": [
    "from nltk.tokenize import sent_tokenize,word_tokenize\n",
    "from nltk.tokenize import RegexpTokenizer\n",
    "reg_exp=\"[a-zA-Z]+\"\n",
    "tokenizer=RegexpTokenizer(reg_exp)\n",
    "from nltk.corpus import stopwords\n",
    "stop=set(stopwords.words('english'))\n",
    "from nltk.stem.snowball import SnowballStemmer, PorterStemmer\n",
    "from nltk.stem.lancaster import LancasterStemmer\n",
    "from sklearn.feature_extraction.text import TfidfVectorizer\n",
    "ss = SnowballStemmer(language='english')\n",
    "ps=PorterStemmer()"
   ]
  },
  {
   "cell_type": "code",
   "execution_count": 635,
   "metadata": {},
   "outputs": [],
   "source": [
    "\n",
    "def remove_stopwords(sent,stopwords):\n",
    "    useful_words = [w for w in sent if w not in stopwords]\n",
    "    return useful_words\n"
   ]
  },
  {
   "cell_type": "code",
   "execution_count": 600,
   "metadata": {},
   "outputs": [],
   "source": []
  },
  {
   "cell_type": "code",
   "execution_count": 601,
   "metadata": {},
   "outputs": [
    {
     "data": {
      "text/plain": [
       "0"
      ]
     },
     "execution_count": 601,
     "metadata": {},
     "output_type": "execute_result"
    }
   ],
   "source": []
  },
  {
   "cell_type": "code",
   "execution_count": 618,
   "metadata": {},
   "outputs": [],
   "source": [
    "#Dataset Preparation"
   ]
  },
  {
   "cell_type": "code",
   "execution_count": 619,
   "metadata": {},
   "outputs": [],
   "source": [
    "f_name=final_list[0][0]\n",
    "for j in range(len(final_list[0])):\n",
    "        final_array=[]\n",
    "        text=final_list[0][j]\n",
    "        text=tokenizer.tokenize(text)\n",
    "        text=remove_stopwords(text,stop)\n",
    "        new_text=[]\n",
    "        for i in range(len(text)):\n",
    "            new_text.append(ps.stem(text[i]))\n",
    "        tf = TfidfVectorizer()\n",
    "        vd = tf.fit_transform(new_text).toarray()\n",
    "        final_array.append(vd)\n",
    "D.update({f_name:final_array})\n",
    "\n",
    "    \n",
    "    "
   ]
  },
  {
   "cell_type": "code",
   "execution_count": 630,
   "metadata": {},
   "outputs": [],
   "source": [
    "A=D.get('alt.atheism')"
   ]
  },
  {
   "cell_type": "code",
   "execution_count": 632,
   "metadata": {},
   "outputs": [
    {
     "ename": "IndexError",
     "evalue": "list index out of range",
     "output_type": "error",
     "traceback": [
      "\u001b[0;31m-----------------------------------------------------------------------\u001b[0m",
      "\u001b[0;31mIndexError\u001b[0m                            Traceback (most recent call last)",
      "\u001b[0;32m<ipython-input-632-72ea7112faa4>\u001b[0m in \u001b[0;36m<module>\u001b[0;34m()\u001b[0m\n\u001b[0;32m----> 1\u001b[0;31m \u001b[0mA\u001b[0m\u001b[0;34m[\u001b[0m\u001b[0;36m1\u001b[0m\u001b[0;34m]\u001b[0m\u001b[0;34m\u001b[0m\u001b[0m\n\u001b[0m",
      "\u001b[0;31mIndexError\u001b[0m: list index out of range"
     ]
    }
   ],
   "source": []
  },
  {
   "cell_type": "code",
   "execution_count": 585,
   "metadata": {},
   "outputs": [],
   "source": [
    "final_list[3].remove(final_list[3][0])"
   ]
  },
  {
   "cell_type": "code",
   "execution_count": 483,
   "metadata": {},
   "outputs": [
    {
     "data": {
      "text/plain": [
       "'comp.sys.ibm.pc.hardware'"
      ]
     },
     "execution_count": 483,
     "metadata": {},
     "output_type": "execute_result"
    }
   ],
   "source": [
    "final_list[3][0]"
   ]
  },
  {
   "cell_type": "code",
   "execution_count": null,
   "metadata": {},
   "outputs": [],
   "source": [
    "for i in range(final_list)"
   ]
  },
  {
   "cell_type": "code",
   "execution_count": 417,
   "metadata": {},
   "outputs": [],
   "source": [
    "def remove_stopwords(sent,stopwords):\n",
    "    useful_words = [w for w in sent if w not in stopwords]\n",
    "    return useful_words"
   ]
  },
  {
   "cell_type": "code",
   "execution_count": 418,
   "metadata": {},
   "outputs": [],
   "source": [
    "text=tokenizer.tokenize(text)\n",
    "text=remove_stopwords(text,stop)\n"
   ]
  },
  {
   "cell_type": "code",
   "execution_count": 423,
   "metadata": {},
   "outputs": [],
   "source": [
    "new_text=[]\n",
    "for i in range(len(text)):\n",
    "    new_text.append(ps.stem(text[i]))"
   ]
  },
  {
   "cell_type": "code",
   "execution_count": 425,
   "metadata": {},
   "outputs": [
    {
     "data": {
      "text/plain": [
       "123"
      ]
     },
     "execution_count": 425,
     "metadata": {},
     "output_type": "execute_result"
    }
   ],
   "source": [
    "len(new_text)"
   ]
  },
  {
   "cell_type": "code",
   "execution_count": 427,
   "metadata": {},
   "outputs": [
    {
     "name": "stdout",
     "output_type": "stream",
     "text": [
      "31\n"
     ]
    }
   ],
   "source": [
    "from sklearn.feature_extraction.text import TfidfVectorizer\n",
    "tf = TfidfVectorizer()\n",
    "vd = tf.fit_transform(new_text).toarray()\n",
    "print(np.argmax(vd[0]))"
   ]
  },
  {
   "cell_type": "code",
   "execution_count": 432,
   "metadata": {},
   "outputs": [
    {
     "data": {
      "text/plain": [
       "(123, 100)"
      ]
     },
     "execution_count": 432,
     "metadata": {},
     "output_type": "execute_result"
    }
   ],
   "source": [
    "vd.shape"
   ]
  },
  {
   "cell_type": "code",
   "execution_count": 430,
   "metadata": {},
   "outputs": [
    {
     "data": {
      "text/plain": [
       "{'afford': 0,\n",
       " 'after': 1,\n",
       " 'agre': 2,\n",
       " 'allow': 3,\n",
       " 'almost': 4,\n",
       " 'and': 5,\n",
       " 'atheist': 6,\n",
       " 'cambridg': 7,\n",
       " 'camp': 8,\n",
       " 'caus': 9,\n",
       " 'citizen': 10,\n",
       " 'co': 11,\n",
       " 'concentr': 12,\n",
       " 'consid': 13,\n",
       " 'constitut': 14,\n",
       " 'consult': 15,\n",
       " 'cwru': 16,\n",
       " 'death': 17,\n",
       " 'devast': 18,\n",
       " 'die': 19,\n",
       " 'diseas': 20,\n",
       " 'don': 21,\n",
       " 'doubt': 22,\n",
       " 'dreamt': 23,\n",
       " 'edu': 24,\n",
       " 'ethnic': 25,\n",
       " 'extermin': 26,\n",
       " 'fair': 27,\n",
       " 'far': 28,\n",
       " 'final': 29,\n",
       " 'form': 30,\n",
       " 'from': 31,\n",
       " 'gass': 32,\n",
       " 'gener': 33,\n",
       " 'goer': 34,\n",
       " 'group': 35,\n",
       " 'guess': 36,\n",
       " 'happen': 37,\n",
       " 'histori': 38,\n",
       " 'holocost': 39,\n",
       " 'if': 40,\n",
       " 'ii': 41,\n",
       " 'immedi': 42,\n",
       " 'imprison': 43,\n",
       " 'insert': 44,\n",
       " 'intend': 45,\n",
       " 'japanes': 46,\n",
       " 'jew': 47,\n",
       " 'keith': 48,\n",
       " 'kill': 49,\n",
       " 'kmr': 50,\n",
       " 'let': 51,\n",
       " 'line': 52,\n",
       " 'look': 53,\n",
       " 'malnutrit': 54,\n",
       " 'manti': 55,\n",
       " 'mathew': 56,\n",
       " 'method': 57,\n",
       " 'minor': 58,\n",
       " 'mutil': 59,\n",
       " 'nazi': 60,\n",
       " 'newsread': 61,\n",
       " 'organ': 62,\n",
       " 'origin': 63,\n",
       " 'painless': 64,\n",
       " 'partli': 65,\n",
       " 'peopl': 66,\n",
       " 'po': 67,\n",
       " 'polit': 68,\n",
       " 'prepar': 69,\n",
       " 'punish': 70,\n",
       " 're': 71,\n",
       " 'reciev': 72,\n",
       " 'round': 73,\n",
       " 'run': 74,\n",
       " 'rusnew': 75,\n",
       " 'ryan': 76,\n",
       " 'say': 77,\n",
       " 'seem': 78,\n",
       " 'short': 79,\n",
       " 'so': 80,\n",
       " 'soem': 81,\n",
       " 'solut': 82,\n",
       " 'standard': 83,\n",
       " 'step': 84,\n",
       " 'stick': 85,\n",
       " 'subject': 86,\n",
       " 'sure': 87,\n",
       " 'those': 88,\n",
       " 'total': 89,\n",
       " 'trial': 90,\n",
       " 'uk': 91,\n",
       " 'unusu': 92,\n",
       " 'us': 93,\n",
       " 'war': 94,\n",
       " 'without': 95,\n",
       " 'world': 96,\n",
       " 'would': 97,\n",
       " 'write': 98,\n",
       " 'zyklon': 99}"
      ]
     },
     "execution_count": 430,
     "metadata": {},
     "output_type": "execute_result"
    }
   ],
   "source": [
    "tf.vocabulary_"
   ]
  },
  {
   "cell_type": "code",
   "execution_count": 289,
   "metadata": {},
   "outputs": [
    {
     "data": {
      "text/plain": [
       "'From: mathew <mathew@mantis.co.uk>\\nSubject: Re: <Political Atheists?\\nOrganization: Mantis Consultants, Cambridge. UK.\\nX-Newsreader: rusnews v1.01\\nLines: 22\\n\\nkmr4@po.CWRU.edu (Keith M. Ryan) writes:\\n> ( I am almost sure that Zyklon-B is immediate and painless method of \\n> death. If not, insert soem other form. )\\n> \\n>         And, ethnic and minority groups have been killed, mutilated and \\n> exterminated through out history, so I guess it was not unusual.\\n> \\n>         So, you would agree that the holocost would be allowed under the US \\n> Constitution?  [ in so far, the punishment. I doubt they recieved what would \\n> be considered a \"fair\" trial by US standards.\\n\\nDon\\'t be so sure.  Look what happened to Japanese citizens in the US during\\nWorld War II.  If you\\'re prepared to say \"Let\\'s round these people up and\\nstick them in a concentration camp without trial\", it\\'s only a short step to\\ngassing them without trial.  After all, it seems that the Nazis originally\\nonly intended to imprison the Jews; the Final Solution was dreamt up partly\\nbecause they couldn\\'t afford to run the camps because of the devastation\\ncaused by Goering\\'s Total War.  Those who weren\\'t gassed generally died of\\nmalnutrition or disease.\\n\\n\\nmathew\\n'"
      ]
     },
     "execution_count": 289,
     "metadata": {},
     "output_type": "execute_result"
    }
   ],
   "source": [
    "for i in range()sents=sent_tokenize()"
   ]
  },
  {
   "cell_type": "code",
   "execution_count": 299,
   "metadata": {},
   "outputs": [
    {
     "data": {
      "text/plain": [
       "11314"
      ]
     },
     "execution_count": 299,
     "metadata": {},
     "output_type": "execute_result"
    }
   ],
   "source": [
    "len(D.get('comp.graphics'))"
   ]
  },
  {
   "cell_type": "code",
   "execution_count": 122,
   "metadata": {},
   "outputs": [
    {
     "data": {
      "text/plain": [
       "(array([ 0,  1,  2,  3,  4,  5,  6,  7,  8,  9, 10, 11, 12, 13, 14, 15, 16,\n",
       "        17, 18, 19]),\n",
       " array([480, 584, 591, 590, 578, 593, 585, 594, 598, 597, 600, 595, 591,\n",
       "        594, 593, 599, 546, 564, 465, 377]))"
      ]
     },
     "execution_count": 122,
     "metadata": {},
     "output_type": "execute_result"
    }
   ],
   "source": []
  },
  {
   "cell_type": "code",
   "execution_count": 358,
   "metadata": {},
   "outputs": [
    {
     "data": {
      "text/plain": [
       "11334"
      ]
     },
     "execution_count": 358,
     "metadata": {},
     "output_type": "execute_result"
    }
   ],
   "source": [
    "len(final_list[0])"
   ]
  },
  {
   "cell_type": "code",
   "execution_count": 364,
   "metadata": {},
   "outputs": [
    {
     "data": {
      "text/plain": [
       "466"
      ]
     },
     "execution_count": 364,
     "metadata": {},
     "output_type": "execute_result"
    }
   ],
   "source": [
    "len(final_list[])"
   ]
  },
  {
   "cell_type": "code",
   "execution_count": 125,
   "metadata": {},
   "outputs": [
    {
     "data": {
      "text/plain": [
       "dict_keys(['rec.autos', 'comp.sys.mac.hardware', 'comp.graphics', 'sci.space', 'talk.politics.guns', 'sci.med', 'comp.sys.ibm.pc.hardware', 'comp.os.ms-windows.misc', 'rec.motorcycles', 'talk.religion.misc', 'misc.forsale', 'alt.atheism', 'sci.electronics', 'comp.windows.x', 'rec.sport.hockey', 'rec.sport.baseball', 'soc.religion.christian', 'talk.politics.mideast', 'talk.politics.misc', 'sci.crypt'])"
      ]
     },
     "execution_count": 125,
     "metadata": {},
     "output_type": "execute_result"
    }
   ],
   "source": []
  },
  {
   "cell_type": "code",
   "execution_count": 135,
   "metadata": {},
   "outputs": [
    {
     "data": {
      "text/plain": [
       "(11314,)"
      ]
     },
     "execution_count": 135,
     "metadata": {},
     "output_type": "execute_result"
    }
   ],
   "source": []
  },
  {
   "cell_type": "code",
   "execution_count": null,
   "metadata": {},
   "outputs": [],
   "source": []
  }
 ],
 "metadata": {
  "kernelspec": {
   "display_name": "Python 3",
   "language": "python",
   "name": "python3"
  },
  "language_info": {
   "codemirror_mode": {
    "name": "ipython",
    "version": 3
   },
   "file_extension": ".py",
   "mimetype": "text/x-python",
   "name": "python",
   "nbconvert_exporter": "python",
   "pygments_lexer": "ipython3",
   "version": "3.6.4"
  }
 },
 "nbformat": 4,
 "nbformat_minor": 2
}
