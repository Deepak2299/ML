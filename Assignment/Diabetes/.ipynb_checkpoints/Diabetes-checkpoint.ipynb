{
 "cells": [
  {
   "cell_type": "code",
   "execution_count": 1,
   "metadata": {},
   "outputs": [],
   "source": [
    "import pandas as pd\n",
    "import numpy as np\n",
    "import matplotlib.pyplot as plt"
   ]
  },
  {
   "cell_type": "code",
   "execution_count": 2,
   "metadata": {},
   "outputs": [],
   "source": [
    "Z=pd.read_csv('./Training/Diabetes_XTrain.csv')\n",
    "X=pd.read_csv('./Training/Diabetes_XTrain.csv').values\n",
    "Y=pd.read_csv('./Training/Diabetes_YTrain.csv').values\n",
    "X_Test=pd.read_csv('./Testing/Diabetes_Xtest.csv').values"
   ]
  },
  {
   "cell_type": "code",
   "execution_count": 3,
   "metadata": {},
   "outputs": [
    {
     "data": {
      "image/png": "[encoded data removed]",
      "text/plain": [
       "<matplotlib.figure.Figure at 0x7effe262da20>"
      ]
     },
     "metadata": {},
     "output_type": "display_data"
    }
   ],
   "source": [
    "for i in range(8):\n",
    "    plt.scatter(X[:,i],Y)\n"
   ]
  },
  {
   "cell_type": "code",
   "execution_count": 4,
   "metadata": {},
   "outputs": [
    {
     "name": "stdout",
     "output_type": "stream",
     "text": [
      "(576,) (576, 1)\n"
     ]
    }
   ],
   "source": [
    "print(X[:,0].shape,Y.shape)"
   ]
  },
  {
   "cell_type": "code",
   "execution_count": 5,
   "metadata": {},
   "outputs": [],
   "source": [
    "def Distance(p1,p2):\n",
    "    return (np.sum((p1-p2))**2)**0.5"
   ]
  },
  {
   "cell_type": "code",
   "execution_count": 59,
   "metadata": {},
   "outputs": [],
   "source": [
    "def KNN(X,Y,Test,k=12):\n",
    "    d=[]\n",
    "    for i in range(X.shape[0]):\n",
    "        val=Distance(X[i],Test)\n",
    "        d.append((val,Y[i]))\n",
    "    d=np.array(sorted(d))\n",
    "    d=d[:k]\n",
    "    c=np.unique(d,return_counts=True)\n",
    "    t=np.argmax(c[1])#Returns the add. of maximum xounted value\n",
    "    pred=c[0][t]\n",
    "    #print(t,c[1],pred)\n",
    "    return pred"
   ]
  },
  {
   "cell_type": "code",
   "execution_count": 60,
   "metadata": {},
   "outputs": [],
   "source": [
    "PRED=[]\n",
    "for i in range(X_Test.shape[0]):\n",
    "    out=KNN(X,Y,X_Test[i])\n",
    "    PRED.append(out)"
   ]
  },
  {
   "cell_type": "code",
   "execution_count": 61,
   "metadata": {},
   "outputs": [],
   "source": [
    "PRED=np.array(PRED)"
   ]
  },
  {
   "cell_type": "code",
   "execution_count": 62,
   "metadata": {},
   "outputs": [],
   "source": [
    "import csv\n",
    "with open('./mycsv_Diabetes.csv','w',newline='')as f:\n",
    "    fieldnames=['Outcome']\n",
    "    thewriter=csv.DictWriter(f,fieldnames=fieldnames)\n",
    "    thewriter.writeheader()\n",
    "    for i in range(PRED.shape[0]):\n",
    "        thewriter.writerow({'Outcome':PRED[i]})"
   ]
  },
  {
   "cell_type": "code",
   "execution_count": null,
   "metadata": {},
   "outputs": [],
   "source": []
  },
  {
   "cell_type": "code",
   "execution_count": null,
   "metadata": {},
   "outputs": [],
   "source": []
  }
 ],
 "metadata": {
  "kernelspec": {
   "display_name": "Python 3",
   "language": "python",
   "name": "python3"
  },
  "language_info": {
   "codemirror_mode": {
    "name": "ipython",
    "version": 3
   },
   "file_extension": ".py",
   "mimetype": "text/x-python",
   "name": "python",
   "nbconvert_exporter": "python",
   "pygments_lexer": "ipython3",
   "version": "3.6.4"
  }
 },
 "nbformat": 4,
 "nbformat_minor": 2
}
